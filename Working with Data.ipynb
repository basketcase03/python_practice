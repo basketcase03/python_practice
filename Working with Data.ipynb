{
 "cells": [
  {
   "cell_type": "markdown",
   "metadata": {},
   "source": [
    "Lists"
   ]
  },
  {
   "cell_type": "code",
   "execution_count": 1,
   "metadata": {},
   "outputs": [
    {
     "data": {
      "text/plain": [
       "[1, 2, 'heterogeneous']"
      ]
     },
     "execution_count": 1,
     "metadata": {},
     "output_type": "execute_result"
    }
   ],
   "source": [
    "[1,2,\"heterogeneous\"]"
   ]
  },
  {
   "cell_type": "code",
   "execution_count": 2,
   "metadata": {},
   "outputs": [],
   "source": [
    "a=['hair','nails']\n",
    "b=[2,3,a]"
   ]
  },
  {
   "cell_type": "code",
   "execution_count": 3,
   "metadata": {},
   "outputs": [
    {
     "name": "stdout",
     "output_type": "stream",
     "text": [
      "2\n",
      "3\n",
      "['hair', 'nails']\n"
     ]
    }
   ],
   "source": [
    "for x in b:\n",
    "    print(x)"
   ]
  },
  {
   "cell_type": "markdown",
   "metadata": {},
   "source": [
    "Range:\n",
    "\n",
    "Returns a range obejct that works as a list but it can be converted to real list using list func\n",
    "\n",
    "len func can be used to find length of both range and list"
   ]
  },
  {
   "cell_type": "code",
   "execution_count": 4,
   "metadata": {},
   "outputs": [],
   "source": [
    "a=range(0,10)"
   ]
  },
  {
   "cell_type": "code",
   "execution_count": 5,
   "metadata": {},
   "outputs": [
    {
     "data": {
      "text/plain": [
       "range(0, 10)"
      ]
     },
     "execution_count": 5,
     "metadata": {},
     "output_type": "execute_result"
    }
   ],
   "source": [
    "a"
   ]
  },
  {
   "cell_type": "code",
   "execution_count": 6,
   "metadata": {},
   "outputs": [
    {
     "data": {
      "text/plain": [
       "0"
      ]
     },
     "execution_count": 6,
     "metadata": {},
     "output_type": "execute_result"
    }
   ],
   "source": [
    "a[0]"
   ]
  },
  {
   "cell_type": "code",
   "execution_count": 8,
   "metadata": {},
   "outputs": [
    {
     "data": {
      "text/plain": [
       "9"
      ]
     },
     "execution_count": 8,
     "metadata": {},
     "output_type": "execute_result"
    }
   ],
   "source": [
    "a[9]"
   ]
  },
  {
   "cell_type": "code",
   "execution_count": 9,
   "metadata": {},
   "outputs": [
    {
     "data": {
      "text/plain": [
       "10"
      ]
     },
     "execution_count": 9,
     "metadata": {},
     "output_type": "execute_result"
    }
   ],
   "source": [
    "len(a)"
   ]
  },
  {
   "cell_type": "code",
   "execution_count": 10,
   "metadata": {},
   "outputs": [],
   "source": [
    "b=list(a)"
   ]
  },
  {
   "cell_type": "code",
   "execution_count": 11,
   "metadata": {},
   "outputs": [
    {
     "data": {
      "text/plain": [
       "[0, 1, 2, 3, 4, 5, 6, 7, 8, 9]"
      ]
     },
     "execution_count": 11,
     "metadata": {},
     "output_type": "execute_result"
    }
   ],
   "source": [
    "b"
   ]
  },
  {
   "cell_type": "code",
   "execution_count": 12,
   "metadata": {},
   "outputs": [
    {
     "data": {
      "text/plain": [
       "10"
      ]
     },
     "execution_count": 12,
     "metadata": {},
     "output_type": "execute_result"
    }
   ],
   "source": [
    "len(b)"
   ]
  },
  {
   "cell_type": "markdown",
   "metadata": {},
   "source": [
    "\\+ and * work even on lists"
   ]
  },
  {
   "cell_type": "code",
   "execution_count": 18,
   "metadata": {},
   "outputs": [],
   "source": [
    "list1=['peaches','apples']\n",
    "list2=[1,2]"
   ]
  },
  {
   "cell_type": "code",
   "execution_count": 14,
   "metadata": {},
   "outputs": [
    {
     "data": {
      "text/plain": [
       "['peaches', 'apples', 1, 2]"
      ]
     },
     "execution_count": 14,
     "metadata": {},
     "output_type": "execute_result"
    }
   ],
   "source": [
    "list1+list2"
   ]
  },
  {
   "cell_type": "code",
   "execution_count": 19,
   "metadata": {},
   "outputs": [
    {
     "data": {
      "text/plain": [
       "['peaches', 'apples', 'peaches', 'apples', 'peaches', 'apples']"
      ]
     },
     "execution_count": 19,
     "metadata": {},
     "output_type": "execute_result"
    }
   ],
   "source": [
    "list1*3"
   ]
  },
  {
   "cell_type": "code",
   "execution_count": 20,
   "metadata": {},
   "outputs": [
    {
     "data": {
      "text/plain": [
       "[1, 2, 1, 2, 1, 2]"
      ]
     },
     "execution_count": 20,
     "metadata": {},
     "output_type": "execute_result"
    }
   ],
   "source": [
    "list2*3"
   ]
  },
  {
   "cell_type": "markdown",
   "metadata": {},
   "source": [
    "Negative indexing also works on list"
   ]
  },
  {
   "cell_type": "code",
   "execution_count": 21,
   "metadata": {},
   "outputs": [
    {
     "data": {
      "text/plain": [
       "'apples'"
      ]
     },
     "execution_count": 21,
     "metadata": {},
     "output_type": "execute_result"
    }
   ],
   "source": [
    "list1[-1]"
   ]
  },
  {
   "cell_type": "code",
   "execution_count": 22,
   "metadata": {},
   "outputs": [
    {
     "data": {
      "text/plain": [
       "1"
      ]
     },
     "execution_count": 22,
     "metadata": {},
     "output_type": "execute_result"
    }
   ],
   "source": [
    "list2[-2]"
   ]
  },
  {
   "cell_type": "code",
   "execution_count": 24,
   "metadata": {},
   "outputs": [
    {
     "data": {
      "text/plain": [
       "'peaches'"
      ]
     },
     "execution_count": 24,
     "metadata": {},
     "output_type": "execute_result"
    }
   ],
   "source": [
    "list1[-2]"
   ]
  },
  {
   "cell_type": "markdown",
   "metadata": {},
   "source": [
    "Slicing"
   ]
  },
  {
   "cell_type": "code",
   "execution_count": 25,
   "metadata": {},
   "outputs": [],
   "source": [
    "list1=['guava','cherry','apricot',89,65,23]"
   ]
  },
  {
   "cell_type": "code",
   "execution_count": 26,
   "metadata": {},
   "outputs": [
    {
     "data": {
      "text/plain": [
       "['apricot', 89, 65]"
      ]
     },
     "execution_count": 26,
     "metadata": {},
     "output_type": "execute_result"
    }
   ],
   "source": [
    "list1[2:5]"
   ]
  },
  {
   "cell_type": "code",
   "execution_count": 27,
   "metadata": {},
   "outputs": [
    {
     "data": {
      "text/plain": [
       "[89, 65]"
      ]
     },
     "execution_count": 27,
     "metadata": {},
     "output_type": "execute_result"
    }
   ],
   "source": [
    "list1[-3:-1]"
   ]
  },
  {
   "cell_type": "code",
   "execution_count": 28,
   "metadata": {},
   "outputs": [
    {
     "data": {
      "text/plain": [
       "[89, 65, 23]"
      ]
     },
     "execution_count": 28,
     "metadata": {},
     "output_type": "execute_result"
    }
   ],
   "source": [
    "list1[-3:]"
   ]
  },
  {
   "cell_type": "code",
   "execution_count": 29,
   "metadata": {},
   "outputs": [
    {
     "data": {
      "text/plain": [
       "['guava', 'cherry', 'apricot']"
      ]
     },
     "execution_count": 29,
     "metadata": {},
     "output_type": "execute_result"
    }
   ],
   "source": [
    "list1[:-3]"
   ]
  },
  {
   "cell_type": "markdown",
   "metadata": {},
   "source": [
    "Optional third index to specify the increment"
   ]
  },
  {
   "cell_type": "code",
   "execution_count": 30,
   "metadata": {},
   "outputs": [
    {
     "data": {
      "text/plain": [
       "['apricot', 65]"
      ]
     },
     "execution_count": 30,
     "metadata": {},
     "output_type": "execute_result"
    }
   ],
   "source": [
    "list1[2:5:2]"
   ]
  },
  {
   "cell_type": "code",
   "execution_count": 31,
   "metadata": {},
   "outputs": [
    {
     "data": {
      "text/plain": [
       "['guava', 'cherry', 'apricot', 89, 65, 23]"
      ]
     },
     "execution_count": 31,
     "metadata": {},
     "output_type": "execute_result"
    }
   ],
   "source": [
    "list1"
   ]
  },
  {
   "cell_type": "code",
   "execution_count": 33,
   "metadata": {},
   "outputs": [
    {
     "data": {
      "text/plain": [
       "[23, 65, 89]"
      ]
     },
     "execution_count": 33,
     "metadata": {},
     "output_type": "execute_result"
    }
   ],
   "source": [
    "list1[5:2:-1]"
   ]
  },
  {
   "cell_type": "markdown",
   "metadata": {},
   "source": [
    "##### Reverse list!\n",
    " Does through shallow copy"
   ]
  },
  {
   "cell_type": "code",
   "execution_count": 34,
   "metadata": {},
   "outputs": [
    {
     "data": {
      "text/plain": [
       "[23, 65, 89, 'apricot', 'cherry', 'guava']"
      ]
     },
     "execution_count": 34,
     "metadata": {},
     "output_type": "execute_result"
    }
   ],
   "source": [
    "list1[::-1]"
   ]
  },
  {
   "cell_type": "code",
   "execution_count": 36,
   "metadata": {},
   "outputs": [],
   "source": [
    "list1[1]=\"apple\""
   ]
  },
  {
   "cell_type": "code",
   "execution_count": 37,
   "metadata": {},
   "outputs": [
    {
     "data": {
      "text/plain": [
       "['guava', 'apple', 'apricot', 89, 65, 23]"
      ]
     },
     "execution_count": 37,
     "metadata": {},
     "output_type": "execute_result"
    }
   ],
   "source": [
    "list1"
   ]
  },
  {
   "cell_type": "markdown",
   "metadata": {},
   "source": [
    "in operator"
   ]
  },
  {
   "cell_type": "code",
   "execution_count": 38,
   "metadata": {},
   "outputs": [
    {
     "data": {
      "text/plain": [
       "False"
      ]
     },
     "execution_count": 38,
     "metadata": {},
     "output_type": "execute_result"
    }
   ],
   "source": [
    "2 in list1"
   ]
  },
  {
   "cell_type": "code",
   "execution_count": 39,
   "metadata": {},
   "outputs": [
    {
     "data": {
      "text/plain": [
       "True"
      ]
     },
     "execution_count": 39,
     "metadata": {},
     "output_type": "execute_result"
    }
   ],
   "source": [
    "'guava' in list1"
   ]
  },
  {
   "cell_type": "markdown",
   "metadata": {},
   "source": [
    "A method is just like a function but it is associated with the object and can access that object when called."
   ]
  },
  {
   "cell_type": "code",
   "execution_count": 40,
   "metadata": {},
   "outputs": [],
   "source": [
    "list1.append(2.3)"
   ]
  },
  {
   "cell_type": "code",
   "execution_count": 41,
   "metadata": {},
   "outputs": [
    {
     "data": {
      "text/plain": [
       "['guava', 'apple', 'apricot', 89, 65, 23, 2.3]"
      ]
     },
     "execution_count": 41,
     "metadata": {},
     "output_type": "execute_result"
    }
   ],
   "source": [
    "list1"
   ]
  },
  {
   "cell_type": "markdown",
   "metadata": {},
   "source": [
    "### Problem1"
   ]
  },
  {
   "cell_type": "markdown",
   "metadata": {},
   "source": [
    "The o/p will be:\n",
    "\n",
    "[0,1,[3]]\n",
    "\n",
    "[0,1,[3],4]\n",
    "\n",
    "[0,1,[2]]\n",
    "\n",
    "On running the cell below, we see the correct o/p (careless mistakes)\n"
   ]
  },
  {
   "cell_type": "code",
   "execution_count": 43,
   "metadata": {},
   "outputs": [
    {
     "name": "stdout",
     "output_type": "stream",
     "text": [
      "[0, 1, [3]]\n",
      "[0, 1, [3, 4]]\n",
      "[0, 1, 2]\n"
     ]
    }
   ],
   "source": [
    "x = [0, 1, [2]]\n",
    "x[2][0] = 3\n",
    "print(x)\n",
    "x[2].append(4)\n",
    "print(x)\n",
    "x[2] = 2\n",
    "print(x)"
   ]
  },
  {
   "cell_type": "code",
   "execution_count": 44,
   "metadata": {},
   "outputs": [
    {
     "name": "stdout",
     "output_type": "stream",
     "text": [
      "guava\n",
      "apple\n",
      "apricot\n",
      "89\n",
      "65\n",
      "23\n",
      "2.3\n"
     ]
    }
   ],
   "source": [
    "for x in list1:\n",
    "    print(x)"
   ]
  },
  {
   "cell_type": "code",
   "execution_count": 45,
   "metadata": {},
   "outputs": [
    {
     "name": "stdout",
     "output_type": "stream",
     "text": [
      " hello \n",
      " hello \n",
      " hello \n",
      " hello \n",
      " hello \n"
     ]
    }
   ],
   "source": [
    "for x in range(0,5):\n",
    "    print(\" hello \")"
   ]
  },
  {
   "cell_type": "markdown",
   "metadata": {},
   "source": [
    "Built in function zip takes two lists and returns a list of pairs in python 2 but in python 3 it does not return a list\n",
    "\n",
    "Handy when we want to iterate over two lists together"
   ]
  },
  {
   "cell_type": "code",
   "execution_count": 62,
   "metadata": {},
   "outputs": [],
   "source": [
    "list1=[8,9,7]\n",
    "list2=[1,2]\n",
    "lst3=list(zip(list1,list2))"
   ]
  },
  {
   "cell_type": "code",
   "execution_count": 63,
   "metadata": {},
   "outputs": [
    {
     "data": {
      "text/plain": [
       "[(8, 1), (9, 2)]"
      ]
     },
     "execution_count": 63,
     "metadata": {},
     "output_type": "execute_result"
    }
   ],
   "source": [
    " lst3"
   ]
  },
  {
   "cell_type": "code",
   "execution_count": 65,
   "metadata": {},
   "outputs": [
    {
     "name": "stdout",
     "output_type": "stream",
     "text": [
      "8 1\n",
      "9 2\n"
     ]
    }
   ],
   "source": [
    "for one,twp in zip(list1,list2):\n",
    "    print(one,twp)"
   ]
  },
  {
   "cell_type": "markdown",
   "metadata": {},
   "source": [
    "### Problem2"
   ]
  },
  {
   "cell_type": "code",
   "execution_count": 73,
   "metadata": {},
   "outputs": [],
   "source": [
    "def sum(lst):\n",
    "    ans=lst[0]\n",
    "    for x in lst[1:]:\n",
    "        ans+=x\n",
    "    return ans"
   ]
  },
  {
   "cell_type": "code",
   "execution_count": 74,
   "metadata": {},
   "outputs": [
    {
     "data": {
      "text/plain": [
       "24"
      ]
     },
     "execution_count": 74,
     "metadata": {},
     "output_type": "execute_result"
    }
   ],
   "source": [
    "sum(list1)"
   ]
  },
  {
   "cell_type": "code",
   "execution_count": 75,
   "metadata": {},
   "outputs": [
    {
     "data": {
      "text/plain": [
       "[8, 9, 7]"
      ]
     },
     "execution_count": 75,
     "metadata": {},
     "output_type": "execute_result"
    }
   ],
   "source": [
    "list1"
   ]
  },
  {
   "cell_type": "markdown",
   "metadata": {},
   "source": [
    "#### Problem3"
   ]
  },
  {
   "cell_type": "markdown",
   "metadata": {},
   "source": [
    "It will return concatenated strings.\n"
   ]
  },
  {
   "cell_type": "code",
   "execution_count": 76,
   "metadata": {},
   "outputs": [],
   "source": [
    "list2=['string1','string2','string3']"
   ]
  },
  {
   "cell_type": "code",
   "execution_count": 77,
   "metadata": {},
   "outputs": [
    {
     "data": {
      "text/plain": [
       "'string1string2string3'"
      ]
     },
     "execution_count": 77,
     "metadata": {},
     "output_type": "execute_result"
    }
   ],
   "source": [
    "sum(list2)"
   ]
  },
  {
   "cell_type": "code",
   "execution_count": 78,
   "metadata": {},
   "outputs": [
    {
     "data": {
      "text/plain": [
       "'helloworld'"
      ]
     },
     "execution_count": 78,
     "metadata": {},
     "output_type": "execute_result"
    }
   ],
   "source": [
    "sum([\"hello\", \"world\"])"
   ]
  },
  {
   "cell_type": "code",
   "execution_count": 79,
   "metadata": {},
   "outputs": [
    {
     "data": {
      "text/plain": [
       "'aabbcc'"
      ]
     },
     "execution_count": 79,
     "metadata": {},
     "output_type": "execute_result"
    }
   ],
   "source": [
    "sum([\"aa\", \"bb\", \"cc\"])"
   ]
  },
  {
   "cell_type": "markdown",
   "metadata": {},
   "source": [
    "### Problem4"
   ]
  },
  {
   "cell_type": "code",
   "execution_count": 80,
   "metadata": {},
   "outputs": [],
   "source": [
    "def product(list1):\n",
    "    ans=list1[0]\n",
    "    for x in list1[1:]:\n",
    "        ans*=x\n",
    "    return ans"
   ]
  },
  {
   "cell_type": "code",
   "execution_count": 82,
   "metadata": {},
   "outputs": [
    {
     "data": {
      "text/plain": [
       "504"
      ]
     },
     "execution_count": 82,
     "metadata": {},
     "output_type": "execute_result"
    }
   ],
   "source": [
    "product(list1)"
   ]
  },
  {
   "cell_type": "code",
   "execution_count": 84,
   "metadata": {},
   "outputs": [
    {
     "data": {
      "text/plain": [
       "[8, 9, 7]"
      ]
     },
     "execution_count": 84,
     "metadata": {},
     "output_type": "execute_result"
    }
   ],
   "source": [
    "list1"
   ]
  },
  {
   "cell_type": "markdown",
   "metadata": {},
   "source": [
    "### Problem5"
   ]
  },
  {
   "cell_type": "code",
   "execution_count": 89,
   "metadata": {},
   "outputs": [],
   "source": [
    "def factorial(num):\n",
    "    lst=list(range(1,num+1))\n",
    "    ans=product(lst)\n",
    "    return ans"
   ]
  },
  {
   "cell_type": "code",
   "execution_count": 90,
   "metadata": {},
   "outputs": [
    {
     "data": {
      "text/plain": [
       "6"
      ]
     },
     "execution_count": 90,
     "metadata": {},
     "output_type": "execute_result"
    }
   ],
   "source": [
    "factorial(3)"
   ]
  },
  {
   "cell_type": "markdown",
   "metadata": {},
   "source": [
    "#### Problem6"
   ]
  },
  {
   "cell_type": "code",
   "execution_count": 100,
   "metadata": {},
   "outputs": [],
   "source": [
    "def rever(list1):\n",
    "    length=len(list1)\n",
    "    list2=[0]*length\n",
    "    for count,x in enumerate(list1):\n",
    "        list2[-1-count]=x\n",
    "    return list2\n",
    "    "
   ]
  },
  {
   "cell_type": "code",
   "execution_count": 103,
   "metadata": {},
   "outputs": [
    {
     "data": {
      "text/plain": [
       "[5, 4, 3, 2, 1]"
      ]
     },
     "execution_count": 103,
     "metadata": {},
     "output_type": "execute_result"
    }
   ],
   "source": [
    "rever([1,2,3,4,5])"
   ]
  },
  {
   "cell_type": "code",
   "execution_count": 104,
   "metadata": {},
   "outputs": [
    {
     "data": {
      "text/plain": [
       "[8, 9, 7]"
      ]
     },
     "execution_count": 104,
     "metadata": {},
     "output_type": "execute_result"
    }
   ],
   "source": [
    "list1"
   ]
  },
  {
   "cell_type": "code",
   "execution_count": 105,
   "metadata": {},
   "outputs": [],
   "source": [
    "list2=list1[::-1]"
   ]
  },
  {
   "cell_type": "code",
   "execution_count": 108,
   "metadata": {},
   "outputs": [
    {
     "data": {
      "text/plain": [
       "[6, 9, 7]"
      ]
     },
     "execution_count": 108,
     "metadata": {},
     "output_type": "execute_result"
    }
   ],
   "source": [
    "list1[0]=6\n",
    "list1"
   ]
  },
  {
   "cell_type": "code",
   "execution_count": 110,
   "metadata": {},
   "outputs": [],
   "source": [
    "list2[2]=10"
   ]
  },
  {
   "cell_type": "code",
   "execution_count": 111,
   "metadata": {},
   "outputs": [
    {
     "data": {
      "text/plain": [
       "[7, 9, 10]"
      ]
     },
     "execution_count": 111,
     "metadata": {},
     "output_type": "execute_result"
    }
   ],
   "source": [
    "list2"
   ]
  },
  {
   "cell_type": "code",
   "execution_count": 112,
   "metadata": {},
   "outputs": [
    {
     "data": {
      "text/plain": [
       "[6, 9, 7]"
      ]
     },
     "execution_count": 112,
     "metadata": {},
     "output_type": "execute_result"
    }
   ],
   "source": [
    "list1"
   ]
  },
  {
   "cell_type": "markdown",
   "metadata": {},
   "source": [
    "##### Shows shallow copy"
   ]
  },
  {
   "cell_type": "code",
   "execution_count": 113,
   "metadata": {},
   "outputs": [],
   "source": [
    "list1=[2,3,[5,6]]"
   ]
  },
  {
   "cell_type": "code",
   "execution_count": 114,
   "metadata": {},
   "outputs": [],
   "source": [
    "list2=list1[::-1]"
   ]
  },
  {
   "cell_type": "code",
   "execution_count": 115,
   "metadata": {},
   "outputs": [
    {
     "data": {
      "text/plain": [
       "[[5, 6], 3, 2]"
      ]
     },
     "execution_count": 115,
     "metadata": {},
     "output_type": "execute_result"
    }
   ],
   "source": [
    "list2"
   ]
  },
  {
   "cell_type": "code",
   "execution_count": 116,
   "metadata": {},
   "outputs": [],
   "source": [
    "list2[0][0]=8"
   ]
  },
  {
   "cell_type": "code",
   "execution_count": 117,
   "metadata": {},
   "outputs": [
    {
     "data": {
      "text/plain": [
       "[[8, 6], 3, 2]"
      ]
     },
     "execution_count": 117,
     "metadata": {},
     "output_type": "execute_result"
    }
   ],
   "source": [
    "list2"
   ]
  },
  {
   "cell_type": "code",
   "execution_count": 118,
   "metadata": {},
   "outputs": [
    {
     "data": {
      "text/plain": [
       "[2, 3, [8, 6]]"
      ]
     },
     "execution_count": 118,
     "metadata": {},
     "output_type": "execute_result"
    }
   ],
   "source": [
    "list1"
   ]
  },
  {
   "cell_type": "markdown",
   "metadata": {},
   "source": [
    "### Problem7\n",
    "On a list with string, the func would return in lexicographic order."
   ]
  },
  {
   "cell_type": "code",
   "execution_count": 122,
   "metadata": {},
   "outputs": [],
   "source": [
    "def min(list1):\n",
    "    min_val=list1[0]\n",
    "    for x in list1[1:]:\n",
    "        if(min_val > x):\n",
    "            min_val=x\n",
    "    return min_val\n",
    "def max(list1):\n",
    "    max_val=list1[0]\n",
    "    for x in list1[1:]:\n",
    "        if(max_val<x):\n",
    "            max_val=x\n",
    "    return max_val"
   ]
  },
  {
   "cell_type": "code",
   "execution_count": 123,
   "metadata": {},
   "outputs": [],
   "source": [
    "list1=[1,2,3,4,5]"
   ]
  },
  {
   "cell_type": "code",
   "execution_count": 124,
   "metadata": {},
   "outputs": [
    {
     "data": {
      "text/plain": [
       "1"
      ]
     },
     "execution_count": 124,
     "metadata": {},
     "output_type": "execute_result"
    }
   ],
   "source": [
    "min(list1)"
   ]
  },
  {
   "cell_type": "code",
   "execution_count": 125,
   "metadata": {},
   "outputs": [
    {
     "data": {
      "text/plain": [
       "5"
      ]
     },
     "execution_count": 125,
     "metadata": {},
     "output_type": "execute_result"
    }
   ],
   "source": [
    "max(list1)"
   ]
  },
  {
   "cell_type": "code",
   "execution_count": 126,
   "metadata": {},
   "outputs": [],
   "source": [
    "list1=['apple','mango','strawberry']"
   ]
  },
  {
   "cell_type": "code",
   "execution_count": 127,
   "metadata": {},
   "outputs": [
    {
     "data": {
      "text/plain": [
       "'apple'"
      ]
     },
     "execution_count": 127,
     "metadata": {},
     "output_type": "execute_result"
    }
   ],
   "source": [
    "min(list1)"
   ]
  },
  {
   "cell_type": "code",
   "execution_count": 128,
   "metadata": {},
   "outputs": [
    {
     "data": {
      "text/plain": [
       "'strawberry'"
      ]
     },
     "execution_count": 128,
     "metadata": {},
     "output_type": "execute_result"
    }
   ],
   "source": [
    "max(list1)"
   ]
  },
  {
   "cell_type": "markdown",
   "metadata": {},
   "source": [
    "### Problem8"
   ]
  },
  {
   "cell_type": "code",
   "execution_count": 129,
   "metadata": {},
   "outputs": [],
   "source": [
    "def cumulative_sum(list1):\n",
    "    list2=[list1[0]]\n",
    "    for x in list1[1:]:\n",
    "        list2.append(list2[-1]+x)\n",
    "    return list2"
   ]
  },
  {
   "cell_type": "code",
   "execution_count": 130,
   "metadata": {},
   "outputs": [],
   "source": [
    "list1=[1,2,3,4,5]"
   ]
  },
  {
   "cell_type": "code",
   "execution_count": 131,
   "metadata": {},
   "outputs": [],
   "source": [
    "list2=cumulative_sum(list1)"
   ]
  },
  {
   "cell_type": "code",
   "execution_count": 132,
   "metadata": {},
   "outputs": [
    {
     "data": {
      "text/plain": [
       "[1, 3, 6, 10, 15]"
      ]
     },
     "execution_count": 132,
     "metadata": {},
     "output_type": "execute_result"
    }
   ],
   "source": [
    "list2"
   ]
  },
  {
   "cell_type": "code",
   "execution_count": 134,
   "metadata": {},
   "outputs": [],
   "source": [
    "list1=['apple','mango','strawberry','peach']"
   ]
  },
  {
   "cell_type": "code",
   "execution_count": 135,
   "metadata": {},
   "outputs": [
    {
     "data": {
      "text/plain": [
       "['apple', 'applemango', 'applemangostrawberry', 'applemangostrawberrypeach']"
      ]
     },
     "execution_count": 135,
     "metadata": {},
     "output_type": "execute_result"
    }
   ],
   "source": [
    "cumulative_sum(list1)"
   ]
  },
  {
   "cell_type": "markdown",
   "metadata": {},
   "source": [
    "#### Problem9"
   ]
  },
  {
   "cell_type": "code",
   "execution_count": 139,
   "metadata": {},
   "outputs": [],
   "source": [
    "def cumulative_product(list1):\n",
    "    list2=[list1[0]]\n",
    "    for x in list1[1:]:\n",
    "        list2.append(list2[-1]*x)\n",
    "    return list2"
   ]
  },
  {
   "cell_type": "code",
   "execution_count": 140,
   "metadata": {},
   "outputs": [],
   "source": [
    "list1=[1,2,3,4,5]"
   ]
  },
  {
   "cell_type": "code",
   "execution_count": 141,
   "metadata": {},
   "outputs": [
    {
     "data": {
      "text/plain": [
       "[1, 2, 6, 24, 120]"
      ]
     },
     "execution_count": 141,
     "metadata": {},
     "output_type": "execute_result"
    }
   ],
   "source": [
    "cumulative_product(list1)"
   ]
  },
  {
   "cell_type": "markdown",
   "metadata": {},
   "source": [
    "#### Problem10"
   ]
  },
  {
   "cell_type": "code",
   "execution_count": 142,
   "metadata": {},
   "outputs": [],
   "source": [
    "def unique(list1):\n",
    "    list2=[]\n",
    "    for x in list1:\n",
    "        if x not in list2:\n",
    "            list2.append(x)\n",
    "    return list2"
   ]
  },
  {
   "cell_type": "code",
   "execution_count": 143,
   "metadata": {},
   "outputs": [],
   "source": [
    "list1=[9,7,4,0,3,6,1,2,9,4,3,8,8,5,4,1]"
   ]
  },
  {
   "cell_type": "code",
   "execution_count": 144,
   "metadata": {},
   "outputs": [
    {
     "data": {
      "text/plain": [
       "[9, 7, 4, 0, 3, 6, 1, 2, 8, 5]"
      ]
     },
     "execution_count": 144,
     "metadata": {},
     "output_type": "execute_result"
    }
   ],
   "source": [
    "unique(list1)"
   ]
  },
  {
   "cell_type": "markdown",
   "metadata": {},
   "source": [
    "#### Problem11"
   ]
  },
  {
   "cell_type": "code",
   "execution_count": 146,
   "metadata": {},
   "outputs": [],
   "source": [
    "def duplicate(list1):\n",
    "    list2=[]\n",
    "    dup=[]\n",
    "    for x in list1:\n",
    "        if x not in list2:\n",
    "            list2.append(x)\n",
    "        else:\n",
    "            if x not in dup:\n",
    "                dup.append(x)\n",
    "    return dup"
   ]
  },
  {
   "cell_type": "code",
   "execution_count": 147,
   "metadata": {},
   "outputs": [
    {
     "data": {
      "text/plain": [
       "[9, 4, 3, 8, 1]"
      ]
     },
     "execution_count": 147,
     "metadata": {},
     "output_type": "execute_result"
    }
   ],
   "source": [
    "duplicate(list1)"
   ]
  },
  {
   "cell_type": "markdown",
   "metadata": {},
   "source": [
    "#### Problem12"
   ]
  },
  {
   "cell_type": "code",
   "execution_count": 163,
   "metadata": {},
   "outputs": [],
   "source": [
    "def split(list1,size):\n",
    "    list2=[]\n",
    "    for index,val in enumerate(list1):\n",
    "        if index%size==0:\n",
    "            list2.append([list1[index]])\n",
    "        else:\n",
    "            list2[-1].append(val)\n",
    "    return list2\n",
    "    \n",
    "        "
   ]
  },
  {
   "cell_type": "code",
   "execution_count": 165,
   "metadata": {},
   "outputs": [],
   "source": [
    "list1=[1,2,3,4,5,6,7,8,9]"
   ]
  },
  {
   "cell_type": "code",
   "execution_count": 169,
   "metadata": {},
   "outputs": [
    {
     "data": {
      "text/plain": [
       "[[1, 2, 3, 4], [5, 6, 7, 8], [9]]"
      ]
     },
     "execution_count": 169,
     "metadata": {},
     "output_type": "execute_result"
    }
   ],
   "source": [
    "split(list1,4)"
   ]
  },
  {
   "cell_type": "markdown",
   "metadata": {},
   "source": [
    "Sorting"
   ]
  },
  {
   "cell_type": "code",
   "execution_count": 170,
   "metadata": {},
   "outputs": [],
   "source": [
    "list1=[9,5,7]"
   ]
  },
  {
   "cell_type": "code",
   "execution_count": 172,
   "metadata": {},
   "outputs": [
    {
     "data": {
      "text/plain": [
       "[5, 7, 9]"
      ]
     },
     "execution_count": 172,
     "metadata": {},
     "output_type": "execute_result"
    }
   ],
   "source": [
    "list1.sort()\n",
    "list1"
   ]
  },
  {
   "cell_type": "code",
   "execution_count": 173,
   "metadata": {},
   "outputs": [],
   "source": [
    "list1=[9,5,7]"
   ]
  },
  {
   "cell_type": "code",
   "execution_count": 174,
   "metadata": {},
   "outputs": [],
   "source": [
    "list2=sorted(list1)"
   ]
  },
  {
   "cell_type": "code",
   "execution_count": 175,
   "metadata": {},
   "outputs": [
    {
     "data": {
      "text/plain": [
       "[5, 7, 9]"
      ]
     },
     "execution_count": 175,
     "metadata": {},
     "output_type": "execute_result"
    }
   ],
   "source": [
    "list2"
   ]
  },
  {
   "cell_type": "code",
   "execution_count": 176,
   "metadata": {},
   "outputs": [],
   "source": [
    "list1=[7,8,\"apple\",\"banana\",9]"
   ]
  },
  {
   "cell_type": "code",
   "execution_count": 177,
   "metadata": {},
   "outputs": [
    {
     "ename": "TypeError",
     "evalue": "'<' not supported between instances of 'str' and 'int'",
     "output_type": "error",
     "traceback": [
      "\u001b[1;31m---------------------------------------------------------------------------\u001b[0m",
      "\u001b[1;31mTypeError\u001b[0m                                 Traceback (most recent call last)",
      "\u001b[1;32m<ipython-input-177-73031ee8c861>\u001b[0m in \u001b[0;36m<module>\u001b[1;34m\u001b[0m\n\u001b[1;32m----> 1\u001b[1;33m \u001b[0mlist1\u001b[0m\u001b[1;33m.\u001b[0m\u001b[0msort\u001b[0m\u001b[1;33m(\u001b[0m\u001b[1;33m)\u001b[0m\u001b[1;33m\u001b[0m\u001b[1;33m\u001b[0m\u001b[0m\n\u001b[0m",
      "\u001b[1;31mTypeError\u001b[0m: '<' not supported between instances of 'str' and 'int'"
     ]
    }
   ],
   "source": [
    "list1.sort()"
   ]
  },
  {
   "cell_type": "code",
   "execution_count": 178,
   "metadata": {},
   "outputs": [
    {
     "ename": "TypeError",
     "evalue": "'<' not supported between instances of 'int' and 'str'",
     "output_type": "error",
     "traceback": [
      "\u001b[1;31m---------------------------------------------------------------------------\u001b[0m",
      "\u001b[1;31mTypeError\u001b[0m                                 Traceback (most recent call last)",
      "\u001b[1;32m<ipython-input-178-4fb9b9a9f38b>\u001b[0m in \u001b[0;36m<module>\u001b[1;34m\u001b[0m\n\u001b[0;32m      1\u001b[0m \u001b[0ma\u001b[0m \u001b[1;33m=\u001b[0m \u001b[1;33m[\u001b[0m\u001b[1;34m\"hello\"\u001b[0m\u001b[1;33m,\u001b[0m \u001b[1;36m1\u001b[0m\u001b[1;33m,\u001b[0m \u001b[1;34m\"world\"\u001b[0m\u001b[1;33m,\u001b[0m \u001b[1;36m45\u001b[0m\u001b[1;33m,\u001b[0m \u001b[1;36m2\u001b[0m\u001b[1;33m]\u001b[0m\u001b[1;33m\u001b[0m\u001b[1;33m\u001b[0m\u001b[0m\n\u001b[1;32m----> 2\u001b[1;33m \u001b[0ma\u001b[0m\u001b[1;33m.\u001b[0m\u001b[0msort\u001b[0m\u001b[1;33m(\u001b[0m\u001b[1;33m)\u001b[0m\u001b[1;33m\u001b[0m\u001b[1;33m\u001b[0m\u001b[0m\n\u001b[0m",
      "\u001b[1;31mTypeError\u001b[0m: '<' not supported between instances of 'int' and 'str'"
     ]
    }
   ],
   "source": [
    "a = [\"hello\", 1, \"world\", 45, 2]\n",
    "a.sort()"
   ]
  },
  {
   "cell_type": "code",
   "execution_count": 179,
   "metadata": {},
   "outputs": [],
   "source": [
    "a=[[1,8],[2,6]]"
   ]
  },
  {
   "cell_type": "code",
   "execution_count": 180,
   "metadata": {},
   "outputs": [],
   "source": [
    "a.sort()"
   ]
  },
  {
   "cell_type": "code",
   "execution_count": 181,
   "metadata": {},
   "outputs": [
    {
     "data": {
      "text/plain": [
       "[[1, 8], [2, 6]]"
      ]
     },
     "execution_count": 181,
     "metadata": {},
     "output_type": "execute_result"
    }
   ],
   "source": [
    "a"
   ]
  },
  {
   "cell_type": "code",
   "execution_count": 182,
   "metadata": {},
   "outputs": [
    {
     "ename": "TypeError",
     "evalue": "'<' not supported between instances of 'list' and 'int'",
     "output_type": "error",
     "traceback": [
      "\u001b[1;31m---------------------------------------------------------------------------\u001b[0m",
      "\u001b[1;31mTypeError\u001b[0m                                 Traceback (most recent call last)",
      "\u001b[1;32m<ipython-input-182-4a80915d70ce>\u001b[0m in \u001b[0;36m<module>\u001b[1;34m\u001b[0m\n\u001b[0;32m      1\u001b[0m \u001b[0ma\u001b[0m\u001b[1;33m=\u001b[0m\u001b[1;33m[\u001b[0m\u001b[1;36m1\u001b[0m\u001b[1;33m,\u001b[0m\u001b[1;36m2\u001b[0m\u001b[1;33m,\u001b[0m\u001b[1;33m[\u001b[0m\u001b[1;36m1\u001b[0m\u001b[1;33m,\u001b[0m\u001b[1;36m2\u001b[0m\u001b[1;33m]\u001b[0m\u001b[1;33m]\u001b[0m\u001b[1;33m\u001b[0m\u001b[1;33m\u001b[0m\u001b[0m\n\u001b[1;32m----> 2\u001b[1;33m \u001b[0ma\u001b[0m\u001b[1;33m.\u001b[0m\u001b[0msort\u001b[0m\u001b[1;33m(\u001b[0m\u001b[1;33m)\u001b[0m\u001b[1;33m\u001b[0m\u001b[1;33m\u001b[0m\u001b[0m\n\u001b[0m\u001b[0;32m      3\u001b[0m \u001b[0ma\u001b[0m\u001b[1;33m\u001b[0m\u001b[1;33m\u001b[0m\u001b[0m\n",
      "\u001b[1;31mTypeError\u001b[0m: '<' not supported between instances of 'list' and 'int'"
     ]
    }
   ],
   "source": [
    "a=[1,2,[1,2]]\n",
    "a.sort()\n",
    "a"
   ]
  },
  {
   "cell_type": "markdown",
   "metadata": {},
   "source": [
    "##### Sort does not work with different types of objects!\""
   ]
  },
  {
   "cell_type": "markdown",
   "metadata": {},
   "source": [
    "We can specify function as sort key"
   ]
  },
  {
   "cell_type": "code",
   "execution_count": 2,
   "metadata": {},
   "outputs": [
    {
     "data": {
      "text/plain": [
       "[[2, 1], [1, 2]]"
      ]
     },
     "execution_count": 2,
     "metadata": {},
     "output_type": "execute_result"
    }
   ],
   "source": [
    "list1=[[1,2],[2,1]]\n",
    "list1.sort(key=lambda x:x[1])\n",
    "list1"
   ]
  },
  {
   "cell_type": "markdown",
   "metadata": {},
   "source": [
    "#### Problem13"
   ]
  },
  {
   "cell_type": "code",
   "execution_count": 21,
   "metadata": {},
   "outputs": [],
   "source": [
    "def lensort(list1):\n",
    "    list2=[]\n",
    "    for count,x in enumerate(list1):\n",
    "        list2.append([count,len(x)])\n",
    "    list2.sort(key=lambda x:x[1])\n",
    "    list3=[]\n",
    "    for x in list2:\n",
    "        list3.append(list1[x[0]])\n",
    "    return list3\n",
    "        "
   ]
  },
  {
   "cell_type": "code",
   "execution_count": 22,
   "metadata": {},
   "outputs": [
    {
     "data": {
      "text/plain": [
       "['hi', 'boy', 'apple', 'categorization']"
      ]
     },
     "execution_count": 22,
     "metadata": {},
     "output_type": "execute_result"
    }
   ],
   "source": [
    "lensort(['apple','boy','categorization','hi'])"
   ]
  },
  {
   "cell_type": "markdown",
   "metadata": {},
   "source": [
    "#### Problem14"
   ]
  },
  {
   "cell_type": "code",
   "execution_count": 8,
   "metadata": {},
   "outputs": [
    {
     "data": {
      "text/plain": [
       "['python', 'java']"
      ]
     },
     "execution_count": 8,
     "metadata": {},
     "output_type": "execute_result"
    }
   ],
   "source": [
    "def unique(list1,key):\n",
    "    list2=[]\n",
    "    for x in list1:\n",
    "        if key(x) not in list2:\n",
    "            list2.append(key(x))\n",
    "    return list2\n",
    "\n",
    "\n",
    "unique([\"python\", \"java\", \"Python\", \"Java\"], key=lambda s: s.lower())"
   ]
  },
  {
   "cell_type": "markdown",
   "metadata": {},
   "source": [
    "Tuples\n",
    "\n",
    "just like lists but immutable"
   ]
  },
  {
   "cell_type": "code",
   "execution_count": 23,
   "metadata": {},
   "outputs": [],
   "source": [
    "a=(1,2,3)"
   ]
  },
  {
   "cell_type": "code",
   "execution_count": 24,
   "metadata": {},
   "outputs": [
    {
     "data": {
      "text/plain": [
       "3"
      ]
     },
     "execution_count": 24,
     "metadata": {},
     "output_type": "execute_result"
    }
   ],
   "source": [
    "a[2]"
   ]
  },
  {
   "cell_type": "markdown",
   "metadata": {},
   "source": [
    "len and slicing works on tuples"
   ]
  },
  {
   "cell_type": "code",
   "execution_count": 25,
   "metadata": {},
   "outputs": [
    {
     "data": {
      "text/plain": [
       "3"
      ]
     },
     "execution_count": 25,
     "metadata": {},
     "output_type": "execute_result"
    }
   ],
   "source": [
    "len(a)"
   ]
  },
  {
   "cell_type": "code",
   "execution_count": 26,
   "metadata": {},
   "outputs": [
    {
     "data": {
      "text/plain": [
       "(2,)"
      ]
     },
     "execution_count": 26,
     "metadata": {},
     "output_type": "execute_result"
    }
   ],
   "source": [
    "a[-2:-1]"
   ]
  },
  {
   "cell_type": "code",
   "execution_count": 28,
   "metadata": {},
   "outputs": [
    {
     "data": {
      "text/plain": [
       "(1, 2)"
      ]
     },
     "execution_count": 28,
     "metadata": {},
     "output_type": "execute_result"
    }
   ],
   "source": [
    "a[0:2]"
   ]
  },
  {
   "cell_type": "markdown",
   "metadata": {},
   "source": [
    "Single value tuple"
   ]
  },
  {
   "cell_type": "code",
   "execution_count": 29,
   "metadata": {},
   "outputs": [],
   "source": [
    "a=(1)"
   ]
  },
  {
   "cell_type": "code",
   "execution_count": 30,
   "metadata": {},
   "outputs": [
    {
     "data": {
      "text/plain": [
       "1"
      ]
     },
     "execution_count": 30,
     "metadata": {},
     "output_type": "execute_result"
    }
   ],
   "source": [
    "a"
   ]
  },
  {
   "cell_type": "code",
   "execution_count": 31,
   "metadata": {},
   "outputs": [
    {
     "ename": "TypeError",
     "evalue": "'int' object is not subscriptable",
     "output_type": "error",
     "traceback": [
      "\u001b[1;31m---------------------------------------------------------------------------\u001b[0m",
      "\u001b[1;31mTypeError\u001b[0m                                 Traceback (most recent call last)",
      "\u001b[1;32m<ipython-input-31-6a1284577a36>\u001b[0m in \u001b[0;36m<module>\u001b[1;34m\u001b[0m\n\u001b[1;32m----> 1\u001b[1;33m \u001b[0ma\u001b[0m\u001b[1;33m[\u001b[0m\u001b[1;36m0\u001b[0m\u001b[1;33m]\u001b[0m\u001b[1;33m\u001b[0m\u001b[1;33m\u001b[0m\u001b[0m\n\u001b[0m",
      "\u001b[1;31mTypeError\u001b[0m: 'int' object is not subscriptable"
     ]
    }
   ],
   "source": [
    "a[0]"
   ]
  },
  {
   "cell_type": "code",
   "execution_count": 32,
   "metadata": {},
   "outputs": [],
   "source": [
    "a=(1,)"
   ]
  },
  {
   "cell_type": "code",
   "execution_count": 33,
   "metadata": {},
   "outputs": [
    {
     "data": {
      "text/plain": [
       "(1,)"
      ]
     },
     "execution_count": 33,
     "metadata": {},
     "output_type": "execute_result"
    }
   ],
   "source": [
    "a"
   ]
  },
  {
   "cell_type": "code",
   "execution_count": 34,
   "metadata": {},
   "outputs": [
    {
     "data": {
      "text/plain": [
       "1"
      ]
     },
     "execution_count": 34,
     "metadata": {},
     "output_type": "execute_result"
    }
   ],
   "source": [
    "a[0]"
   ]
  },
  {
   "cell_type": "markdown",
   "metadata": {},
   "source": [
    "Sets\n",
    "\n",
    "Unordered collection of unique elements"
   ]
  },
  {
   "cell_type": "code",
   "execution_count": 35,
   "metadata": {},
   "outputs": [],
   "source": [
    "a=[2,3,4,1,2,3]"
   ]
  },
  {
   "cell_type": "code",
   "execution_count": 36,
   "metadata": {},
   "outputs": [],
   "source": [
    "a=set(a)"
   ]
  },
  {
   "cell_type": "code",
   "execution_count": 37,
   "metadata": {},
   "outputs": [
    {
     "data": {
      "text/plain": [
       "{1, 2, 3, 4}"
      ]
     },
     "execution_count": 37,
     "metadata": {},
     "output_type": "execute_result"
    }
   ],
   "source": [
    "a"
   ]
  },
  {
   "cell_type": "code",
   "execution_count": 43,
   "metadata": {},
   "outputs": [],
   "source": [
    "a.add(5)"
   ]
  },
  {
   "cell_type": "code",
   "execution_count": 44,
   "metadata": {},
   "outputs": [
    {
     "data": {
      "text/plain": [
       "{1, 2, 3, 4, 5}"
      ]
     },
     "execution_count": 44,
     "metadata": {},
     "output_type": "execute_result"
    }
   ],
   "source": [
    "a"
   ]
  },
  {
   "cell_type": "code",
   "execution_count": 46,
   "metadata": {},
   "outputs": [],
   "source": [
    "a.add(7)"
   ]
  },
  {
   "cell_type": "markdown",
   "metadata": {},
   "source": [
    "in operation is faster in sets than lists"
   ]
  },
  {
   "cell_type": "code",
   "execution_count": 47,
   "metadata": {},
   "outputs": [
    {
     "data": {
      "text/plain": [
       "True"
      ]
     },
     "execution_count": 47,
     "metadata": {},
     "output_type": "execute_result"
    }
   ],
   "source": [
    "3 in a"
   ]
  },
  {
   "cell_type": "code",
   "execution_count": 48,
   "metadata": {},
   "outputs": [
    {
     "data": {
      "text/plain": [
       "False"
      ]
     },
     "execution_count": 48,
     "metadata": {},
     "output_type": "execute_result"
    }
   ],
   "source": [
    "10 in a"
   ]
  },
  {
   "cell_type": "markdown",
   "metadata": {},
   "source": [
    "#### Problem15"
   ]
  },
  {
   "cell_type": "code",
   "execution_count": 10,
   "metadata": {},
   "outputs": [
    {
     "data": {
      "text/plain": [
       "['java', 'python']"
      ]
     },
     "execution_count": 10,
     "metadata": {},
     "output_type": "execute_result"
    }
   ],
   "source": [
    "def unique(list1,key):\n",
    "    set1=set()\n",
    "    for x in list1:\n",
    "            set1.add(key(x))\n",
    "    return list(set1)\n",
    "\n",
    "\n",
    "unique([\"python\", \"java\", \"Python\", \"Java\"], key=lambda s: s.lower())"
   ]
  },
  {
   "cell_type": "markdown",
   "metadata": {},
   "source": [
    "Strings\n",
    "\n",
    "behave like lists in many ways"
   ]
  },
  {
   "cell_type": "code",
   "execution_count": 49,
   "metadata": {},
   "outputs": [
    {
     "data": {
      "text/plain": [
       "22"
      ]
     },
     "execution_count": 49,
     "metadata": {},
     "output_type": "execute_result"
    }
   ],
   "source": [
    "len(\"Bucky Robert tutorials\")"
   ]
  },
  {
   "cell_type": "code",
   "execution_count": 50,
   "metadata": {},
   "outputs": [],
   "source": [
    "string=\"hey there bucky\""
   ]
  },
  {
   "cell_type": "code",
   "execution_count": 51,
   "metadata": {},
   "outputs": [
    {
     "data": {
      "text/plain": [
       "'ykcub ereht yeh'"
      ]
     },
     "execution_count": 51,
     "metadata": {},
     "output_type": "execute_result"
    }
   ],
   "source": [
    "string[::-1]"
   ]
  },
  {
   "cell_type": "code",
   "execution_count": 52,
   "metadata": {},
   "outputs": [
    {
     "data": {
      "text/plain": [
       "' bucky'"
      ]
     },
     "execution_count": 52,
     "metadata": {},
     "output_type": "execute_result"
    }
   ],
   "source": [
    "string[-6:]"
   ]
  },
  {
   "cell_type": "code",
   "execution_count": 53,
   "metadata": {},
   "outputs": [
    {
     "data": {
      "text/plain": [
       "' buck'"
      ]
     },
     "execution_count": 53,
     "metadata": {},
     "output_type": "execute_result"
    }
   ],
   "source": [
    "string[-6:-1]"
   ]
  },
  {
   "cell_type": "markdown",
   "metadata": {},
   "source": [
    "in operator can be used to check if string is present in other string"
   ]
  },
  {
   "cell_type": "code",
   "execution_count": 54,
   "metadata": {},
   "outputs": [
    {
     "data": {
      "text/plain": [
       "True"
      ]
     },
     "execution_count": 54,
     "metadata": {},
     "output_type": "execute_result"
    }
   ],
   "source": [
    "\"hey\" in string"
   ]
  },
  {
   "cell_type": "code",
   "execution_count": 55,
   "metadata": {},
   "outputs": [
    {
     "data": {
      "text/plain": [
       "False"
      ]
     },
     "execution_count": 55,
     "metadata": {},
     "output_type": "execute_result"
    }
   ],
   "source": [
    "\"oops \" in string"
   ]
  },
  {
   "cell_type": "markdown",
   "metadata": {},
   "source": [
    "split() method splits a string using a delimiter. (default=whitespace char)\n",
    "\n",
    "join() method joins a list of strings"
   ]
  },
  {
   "cell_type": "code",
   "execution_count": 56,
   "metadata": {},
   "outputs": [
    {
     "data": {
      "text/plain": [
       "['hey', 'there', 'bucky']"
      ]
     },
     "execution_count": 56,
     "metadata": {},
     "output_type": "execute_result"
    }
   ],
   "source": [
    "string.split()"
   ]
  },
  {
   "cell_type": "code",
   "execution_count": 57,
   "metadata": {},
   "outputs": [
    {
     "data": {
      "text/plain": [
       "['i', 'am', 'a', 'string']"
      ]
     },
     "execution_count": 57,
     "metadata": {},
     "output_type": "execute_result"
    }
   ],
   "source": [
    "\"i,am,a,string\".split(',')"
   ]
  },
  {
   "cell_type": "code",
   "execution_count": 58,
   "metadata": {},
   "outputs": [
    {
     "data": {
      "text/plain": [
       "'hi hello'"
      ]
     },
     "execution_count": 58,
     "metadata": {},
     "output_type": "execute_result"
    }
   ],
   "source": [
    "\" \".join(['hi','hello'])"
   ]
  },
  {
   "cell_type": "code",
   "execution_count": 59,
   "metadata": {},
   "outputs": [
    {
     "data": {
      "text/plain": [
       "'hi%%%%%%%%hello'"
      ]
     },
     "execution_count": 59,
     "metadata": {},
     "output_type": "execute_result"
    }
   ],
   "source": [
    "\"%%%%%%%%\".join(['hi','hello'])"
   ]
  },
  {
   "cell_type": "markdown",
   "metadata": {},
   "source": [
    "strip - by default removes leading or trailing whitespaces. can also remove specified string"
   ]
  },
  {
   "cell_type": "code",
   "execution_count": 60,
   "metadata": {},
   "outputs": [
    {
     "data": {
      "text/plain": [
       "'hey'"
      ]
     },
     "execution_count": 60,
     "metadata": {},
     "output_type": "execute_result"
    }
   ],
   "source": [
    "\"           hey  \".strip()"
   ]
  },
  {
   "cell_type": "code",
   "execution_count": 64,
   "metadata": {},
   "outputs": [
    {
     "data": {
      "text/plain": [
       "'ello'"
      ]
     },
     "execution_count": 64,
     "metadata": {},
     "output_type": "execute_result"
    }
   ],
   "source": [
    "\"abcdhelloabcdhi\".strip('abcdhi')"
   ]
  },
  {
   "cell_type": "markdown",
   "metadata": {},
   "source": [
    "Supports formatting values into strings"
   ]
  },
  {
   "cell_type": "code",
   "execution_count": 65,
   "metadata": {},
   "outputs": [],
   "source": [
    "a=\"hello\""
   ]
  },
  {
   "cell_type": "code",
   "execution_count": 66,
   "metadata": {},
   "outputs": [
    {
     "data": {
      "text/plain": [
       "'hi hello'"
      ]
     },
     "execution_count": 66,
     "metadata": {},
     "output_type": "execute_result"
    }
   ],
   "source": [
    "\"hi %s\"%(a)"
   ]
  },
  {
   "cell_type": "markdown",
   "metadata": {},
   "source": [
    "#### Problem16"
   ]
  },
  {
   "cell_type": "code",
   "execution_count": 78,
   "metadata": {},
   "outputs": [],
   "source": [
    "def extsort(file_list):\n",
    "    new_file_list=[]\n",
    "    for file in file_list:\n",
    "        new_file_list.append(file.split('.'))\n",
    "    new_file_list.sort(key=lambda x: x[1])\n",
    "    final_file=[]\n",
    "    for file in new_file_list:\n",
    "        final_file.append(\".\".join(file))\n",
    "    print(final_file)"
   ]
  },
  {
   "cell_type": "code",
   "execution_count": 79,
   "metadata": {},
   "outputs": [
    {
     "name": "stdout",
     "output_type": "stream",
     "text": [
      "['a.c', 'x.c', 'a.py', 'b.py', 'bar.txt', 'foo.txt']\n"
     ]
    }
   ],
   "source": [
    "extsort(['a.c', 'a.py', 'b.py', 'bar.txt', 'foo.txt', 'x.c'])"
   ]
  },
  {
   "cell_type": "markdown",
   "metadata": {},
   "source": [
    "Working with files"
   ]
  },
  {
   "cell_type": "code",
   "execution_count": 1,
   "metadata": {},
   "outputs": [],
   "source": [
    "f=open(\"textfile\",'r')"
   ]
  },
  {
   "cell_type": "code",
   "execution_count": 2,
   "metadata": {},
   "outputs": [],
   "source": [
    "f.close()"
   ]
  },
  {
   "cell_type": "code",
   "execution_count": 3,
   "metadata": {},
   "outputs": [
    {
     "data": {
      "text/plain": [
       "'Hello\\nThis is a text file for working with file handling.\\nPoem] Pieces of a Man - gil scott-heron\\nJagged jigsaw pieces\\n\\nTossed about the room\\n\\nI saw my grandma sweeping\\n\\nWith her old straw broom\\n\\nBut she didn\\'t know what she was doing\\n\\nShe could hardly understand\\n\\nThat she was really sweeping up\\n\\nPieces of a man\\n\\nI saw my daddy meet the mailman\\n\\nAnd I heard the mailman say\\n\\n\"Now don\\'t you take this letter to heart now, Jimmy\\n\\nCause they\\'ve laid off nine others today\"\\n\\nBut he didn\\'t know what he was saying\\n\\nHe could hardly understand\\n\\nThat he was only talking to\\n\\nPieces of a man\\n\\nI saw the thunder and heard the lightning\\n\\nAnd felt the burden of his shame\\n\\nAnd for some unknown reason\\n\\nHe never turned my way\\n\\nPieces of that letter\\n\\nWere tossed about that room\\n\\nAnd now I hear the sound of sirens\\n\\nCome knifing through the gloom\\n\\nBut they don\\'t know what they are doing\\n\\nThey could hardly understand\\n\\nThat they\\'re only arresting\\n\\nPieces of a man\\n\\nI saw him go to pieces\\n\\nI saw him go to pieces\\n\\nHe was always such a good man\\n\\nHe was always such a strong, strong man\\n\\nYeah, I saw him go to pieces\\n\\nI saw him go to piecesa'"
      ]
     },
     "execution_count": 3,
     "metadata": {},
     "output_type": "execute_result"
    }
   ],
   "source": [
    "open(\"textfile\").read()"
   ]
  },
  {
   "cell_type": "markdown",
   "metadata": {},
   "source": [
    "Readline and readlines"
   ]
  },
  {
   "cell_type": "code",
   "execution_count": 4,
   "metadata": {},
   "outputs": [
    {
     "data": {
      "text/plain": [
       "['Hello\\n',\n",
       " 'This is a text file for working with file handling.\\n',\n",
       " 'Poem] Pieces of a Man - gil scott-heron\\n',\n",
       " 'Jagged jigsaw pieces\\n',\n",
       " '\\n',\n",
       " 'Tossed about the room\\n',\n",
       " '\\n',\n",
       " 'I saw my grandma sweeping\\n',\n",
       " '\\n',\n",
       " 'With her old straw broom\\n',\n",
       " '\\n',\n",
       " \"But she didn't know what she was doing\\n\",\n",
       " '\\n',\n",
       " 'She could hardly understand\\n',\n",
       " '\\n',\n",
       " 'That she was really sweeping up\\n',\n",
       " '\\n',\n",
       " 'Pieces of a man\\n',\n",
       " '\\n',\n",
       " 'I saw my daddy meet the mailman\\n',\n",
       " '\\n',\n",
       " 'And I heard the mailman say\\n',\n",
       " '\\n',\n",
       " '\"Now don\\'t you take this letter to heart now, Jimmy\\n',\n",
       " '\\n',\n",
       " 'Cause they\\'ve laid off nine others today\"\\n',\n",
       " '\\n',\n",
       " \"But he didn't know what he was saying\\n\",\n",
       " '\\n',\n",
       " 'He could hardly understand\\n',\n",
       " '\\n',\n",
       " 'That he was only talking to\\n',\n",
       " '\\n',\n",
       " 'Pieces of a man\\n',\n",
       " '\\n',\n",
       " 'I saw the thunder and heard the lightning\\n',\n",
       " '\\n',\n",
       " 'And felt the burden of his shame\\n',\n",
       " '\\n',\n",
       " 'And for some unknown reason\\n',\n",
       " '\\n',\n",
       " 'He never turned my way\\n',\n",
       " '\\n',\n",
       " 'Pieces of that letter\\n',\n",
       " '\\n',\n",
       " 'Were tossed about that room\\n',\n",
       " '\\n',\n",
       " 'And now I hear the sound of sirens\\n',\n",
       " '\\n',\n",
       " 'Come knifing through the gloom\\n',\n",
       " '\\n',\n",
       " \"But they don't know what they are doing\\n\",\n",
       " '\\n',\n",
       " 'They could hardly understand\\n',\n",
       " '\\n',\n",
       " \"That they're only arresting\\n\",\n",
       " '\\n',\n",
       " 'Pieces of a man\\n',\n",
       " '\\n',\n",
       " 'I saw him go to pieces\\n',\n",
       " '\\n',\n",
       " 'I saw him go to pieces\\n',\n",
       " '\\n',\n",
       " 'He was always such a good man\\n',\n",
       " '\\n',\n",
       " 'He was always such a strong, strong man\\n',\n",
       " '\\n',\n",
       " 'Yeah, I saw him go to pieces\\n',\n",
       " '\\n',\n",
       " 'I saw him go to piecesa']"
      ]
     },
     "execution_count": 4,
     "metadata": {},
     "output_type": "execute_result"
    }
   ],
   "source": [
    "open(\"textfile\").readlines()"
   ]
  },
  {
   "cell_type": "code",
   "execution_count": 5,
   "metadata": {},
   "outputs": [],
   "source": [
    "f=open(\"textfile\")"
   ]
  },
  {
   "cell_type": "code",
   "execution_count": 6,
   "metadata": {},
   "outputs": [
    {
     "data": {
      "text/plain": [
       "'Hello\\n'"
      ]
     },
     "execution_count": 6,
     "metadata": {},
     "output_type": "execute_result"
    }
   ],
   "source": [
    "f.readline()"
   ]
  },
  {
   "cell_type": "code",
   "execution_count": 7,
   "metadata": {},
   "outputs": [
    {
     "data": {
      "text/plain": [
       "'This is a text file for working with file handling.\\n'"
      ]
     },
     "execution_count": 7,
     "metadata": {},
     "output_type": "execute_result"
    }
   ],
   "source": [
    "f.readline()"
   ]
  },
  {
   "cell_type": "markdown",
   "metadata": {},
   "source": [
    "write method\n",
    "\n",
    "or writelines method\n"
   ]
  },
  {
   "cell_type": "code",
   "execution_count": 8,
   "metadata": {},
   "outputs": [],
   "source": [
    "f.close()"
   ]
  },
  {
   "cell_type": "code",
   "execution_count": 11,
   "metadata": {},
   "outputs": [],
   "source": [
    "f=open('textfile.txt','w')"
   ]
  },
  {
   "cell_type": "code",
   "execution_count": 12,
   "metadata": {},
   "outputs": [
    {
     "data": {
      "text/plain": [
       "4"
      ]
     },
     "execution_count": 12,
     "metadata": {},
     "output_type": "execute_result"
    }
   ],
   "source": [
    "f.write('a\\nbc')"
   ]
  },
  {
   "cell_type": "code",
   "execution_count": 13,
   "metadata": {},
   "outputs": [],
   "source": [
    "f.close()"
   ]
  },
  {
   "cell_type": "code",
   "execution_count": 19,
   "metadata": {},
   "outputs": [],
   "source": [
    "f=open('textfile.txt','a')"
   ]
  },
  {
   "cell_type": "code",
   "execution_count": 20,
   "metadata": {},
   "outputs": [
    {
     "data": {
      "text/plain": [
       "2"
      ]
     },
     "execution_count": 20,
     "metadata": {},
     "output_type": "execute_result"
    }
   ],
   "source": [
    "f.write('d\\n')"
   ]
  },
  {
   "cell_type": "code",
   "execution_count": 21,
   "metadata": {},
   "outputs": [],
   "source": [
    "f.close()"
   ]
  },
  {
   "cell_type": "code",
   "execution_count": 22,
   "metadata": {},
   "outputs": [
    {
     "data": {
      "text/plain": [
       "'a\\nbcd\\n'"
      ]
     },
     "execution_count": 22,
     "metadata": {},
     "output_type": "execute_result"
    }
   ],
   "source": [
    "open('textfile.txt').read()"
   ]
  },
  {
   "cell_type": "code",
   "execution_count": 23,
   "metadata": {},
   "outputs": [],
   "source": [
    "f=open(\"textfile.txt\")"
   ]
  },
  {
   "cell_type": "code",
   "execution_count": 26,
   "metadata": {},
   "outputs": [],
   "source": [
    "f.close()"
   ]
  },
  {
   "cell_type": "code",
   "execution_count": 28,
   "metadata": {},
   "outputs": [],
   "source": [
    "f = open('textfile.txt','w')\n",
    "f.writelines(['a\\n', 'b\\n', 'c\\n'])\n",
    "f.close()"
   ]
  },
  {
   "cell_type": "code",
   "execution_count": 29,
   "metadata": {},
   "outputs": [
    {
     "data": {
      "text/plain": [
       "['a\\n', 'b\\n', 'c\\n']"
      ]
     },
     "execution_count": 29,
     "metadata": {},
     "output_type": "execute_result"
    }
   ],
   "source": [
    "open(\"textfile.txt\").readlines()"
   ]
  },
  {
   "cell_type": "markdown",
   "metadata": {},
   "source": [
    "Examples"
   ]
  },
  {
   "cell_type": "code",
   "execution_count": 30,
   "metadata": {},
   "outputs": [],
   "source": [
    "f=open(\"textfile\",'r')"
   ]
  },
  {
   "cell_type": "code",
   "execution_count": 31,
   "metadata": {},
   "outputs": [],
   "source": [
    "f.close()"
   ]
  },
  {
   "cell_type": "code",
   "execution_count": 34,
   "metadata": {},
   "outputs": [],
   "source": [
    "def charlength(filename):\n",
    "    return len(open(filename).read())"
   ]
  },
  {
   "cell_type": "code",
   "execution_count": 35,
   "metadata": {},
   "outputs": [
    {
     "data": {
      "text/plain": [
       "1128"
      ]
     },
     "execution_count": 35,
     "metadata": {},
     "output_type": "execute_result"
    }
   ],
   "source": [
    "charlength('textfile')"
   ]
  },
  {
   "cell_type": "code",
   "execution_count": 36,
   "metadata": {},
   "outputs": [],
   "source": [
    "def wordlength(filename):\n",
    "    return len(open(filename).read().split())"
   ]
  },
  {
   "cell_type": "code",
   "execution_count": 38,
   "metadata": {},
   "outputs": [
    {
     "data": {
      "text/plain": [
       "217"
      ]
     },
     "execution_count": 38,
     "metadata": {},
     "output_type": "execute_result"
    }
   ],
   "source": [
    "wordlength('textfile')"
   ]
  },
  {
   "cell_type": "code",
   "execution_count": 39,
   "metadata": {},
   "outputs": [],
   "source": [
    "def numlines(filename):\n",
    "    return len(open(filename).readlines())"
   ]
  },
  {
   "cell_type": "code",
   "execution_count": 40,
   "metadata": {},
   "outputs": [
    {
     "data": {
      "text/plain": [
       "70"
      ]
     },
     "execution_count": 40,
     "metadata": {},
     "output_type": "execute_result"
    }
   ],
   "source": [
    "numlines('textfile')"
   ]
  },
  {
   "cell_type": "markdown",
   "metadata": {},
   "source": [
    "#### Problem 17"
   ]
  },
  {
   "cell_type": "code",
   "execution_count": 43,
   "metadata": {},
   "outputs": [],
   "source": [
    "def reverse(filename):\n",
    "    lst=[]\n",
    "    for line in open(filename).readlines():\n",
    "        lst.append(line)\n",
    "    lst=lst[::-1]\n",
    "    for line in lst:\n",
    "        print(line)"
   ]
  },
  {
   "cell_type": "code",
   "execution_count": 45,
   "metadata": {},
   "outputs": [
    {
     "name": "stdout",
     "output_type": "stream",
     "text": [
      "I saw him go to piecesad\n",
      "\n",
      "\n",
      "\n",
      "Yeah, I saw him go to pieces\n",
      "\n",
      "\n",
      "\n",
      "He was always such a strong, strong man\n",
      "\n",
      "\n",
      "\n",
      "He was always such a good man\n",
      "\n",
      "\n",
      "\n",
      "I saw him go to pieces\n",
      "\n",
      "\n",
      "\n",
      "I saw him go to pieces\n",
      "\n",
      "\n",
      "\n",
      "Pieces of a man\n",
      "\n",
      "\n",
      "\n",
      "That they're only arresting\n",
      "\n",
      "\n",
      "\n",
      "They could hardly understand\n",
      "\n",
      "\n",
      "\n",
      "But they don't know what they are doing\n",
      "\n",
      "\n",
      "\n",
      "Come knifing through the gloom\n",
      "\n",
      "\n",
      "\n",
      "And now I hear the sound of sirens\n",
      "\n",
      "\n",
      "\n",
      "Were tossed about that room\n",
      "\n",
      "\n",
      "\n",
      "Pieces of that letter\n",
      "\n",
      "\n",
      "\n",
      "He never turned my way\n",
      "\n",
      "\n",
      "\n",
      "And for some unknown reason\n",
      "\n",
      "\n",
      "\n",
      "And felt the burden of his shame\n",
      "\n",
      "\n",
      "\n",
      "I saw the thunder and heard the lightning\n",
      "\n",
      "\n",
      "\n",
      "Pieces of a man\n",
      "\n",
      "\n",
      "\n",
      "That he was only talking to\n",
      "\n",
      "\n",
      "\n",
      "He could hardly understand\n",
      "\n",
      "\n",
      "\n",
      "But he didn't know what he was saying\n",
      "\n",
      "\n",
      "\n",
      "Cause they've laid off nine others today\"\n",
      "\n",
      "\n",
      "\n",
      "\"Now don't you take this letter to heart now, Jimmy\n",
      "\n",
      "\n",
      "\n",
      "And I heard the mailman say\n",
      "\n",
      "\n",
      "\n",
      "I saw my daddy meet the mailman\n",
      "\n",
      "\n",
      "\n",
      "Pieces of a man\n",
      "\n",
      "\n",
      "\n",
      "That she was really sweeping up\n",
      "\n",
      "\n",
      "\n",
      "She could hardly understand\n",
      "\n",
      "\n",
      "\n",
      "But she didn't know what she was doing\n",
      "\n",
      "\n",
      "\n",
      "With her old straw broom\n",
      "\n",
      "\n",
      "\n",
      "I saw my grandma sweeping\n",
      "\n",
      "\n",
      "\n",
      "Tossed about the room\n",
      "\n",
      "\n",
      "\n",
      "Jagged jigsaw pieces\n",
      "\n",
      "Poem] Pieces of a Man - gil scott-heron\n",
      "\n",
      "This is a text file for working with file handling.\n",
      "\n",
      "Hello\n",
      "\n"
     ]
    }
   ],
   "source": [
    "reverse(\"textfile\")"
   ]
  },
  {
   "cell_type": "markdown",
   "metadata": {},
   "source": [
    "#### Problem18"
   ]
  },
  {
   "cell_type": "code",
   "execution_count": 49,
   "metadata": {},
   "outputs": [],
   "source": [
    "def rev_line(filename):\n",
    "    for line in open(filename).readlines():\n",
    "        print(line[::-1])"
   ]
  },
  {
   "cell_type": "code",
   "execution_count": 50,
   "metadata": {},
   "outputs": [
    {
     "name": "stdout",
     "output_type": "stream",
     "text": [
      "\n",
      "olleH\n",
      "\n",
      ".gnildnah elif htiw gnikrow rof elif txet a si sihT\n",
      "\n",
      "noreh-ttocs lig - naM a fo seceiP ]meoP\n",
      "\n",
      "seceip wasgij deggaJ\n",
      "\n",
      "\n",
      "\n",
      "moor eht tuoba dessoT\n",
      "\n",
      "\n",
      "\n",
      "gnipeews amdnarg ym was I\n",
      "\n",
      "\n",
      "\n",
      "moorb warts dlo reh htiW\n",
      "\n",
      "\n",
      "\n",
      "gniod saw ehs tahw wonk t'ndid ehs tuB\n",
      "\n",
      "\n",
      "\n",
      "dnatsrednu yldrah dluoc ehS\n",
      "\n",
      "\n",
      "\n",
      "pu gnipeews yllaer saw ehs tahT\n",
      "\n",
      "\n",
      "\n",
      "nam a fo seceiP\n",
      "\n",
      "\n",
      "\n",
      "namliam eht teem yddad ym was I\n",
      "\n",
      "\n",
      "\n",
      "yas namliam eht draeh I dnA\n",
      "\n",
      "\n",
      "\n",
      "ymmiJ ,won traeh ot rettel siht ekat uoy t'nod woN\"\n",
      "\n",
      "\n",
      "\n",
      "\"yadot srehto enin ffo dial ev'yeht esuaC\n",
      "\n",
      "\n",
      "\n",
      "gniyas saw eh tahw wonk t'ndid eh tuB\n",
      "\n",
      "\n",
      "\n",
      "dnatsrednu yldrah dluoc eH\n",
      "\n",
      "\n",
      "\n",
      "ot gniklat ylno saw eh tahT\n",
      "\n",
      "\n",
      "\n",
      "nam a fo seceiP\n",
      "\n",
      "\n",
      "\n",
      "gninthgil eht draeh dna rednuht eht was I\n",
      "\n",
      "\n",
      "\n",
      "emahs sih fo nedrub eht tlef dnA\n",
      "\n",
      "\n",
      "\n",
      "nosaer nwonknu emos rof dnA\n",
      "\n",
      "\n",
      "\n",
      "yaw ym denrut reven eH\n",
      "\n",
      "\n",
      "\n",
      "rettel taht fo seceiP\n",
      "\n",
      "\n",
      "\n",
      "moor taht tuoba dessot ereW\n",
      "\n",
      "\n",
      "\n",
      "sneris fo dnuos eht raeh I won dnA\n",
      "\n",
      "\n",
      "\n",
      "moolg eht hguorht gnifink emoC\n",
      "\n",
      "\n",
      "\n",
      "gniod era yeht tahw wonk t'nod yeht tuB\n",
      "\n",
      "\n",
      "\n",
      "dnatsrednu yldrah dluoc yehT\n",
      "\n",
      "\n",
      "\n",
      "gnitserra ylno er'yeht tahT\n",
      "\n",
      "\n",
      "\n",
      "nam a fo seceiP\n",
      "\n",
      "\n",
      "\n",
      "seceip ot og mih was I\n",
      "\n",
      "\n",
      "\n",
      "seceip ot og mih was I\n",
      "\n",
      "\n",
      "\n",
      "nam doog a hcus syawla saw eH\n",
      "\n",
      "\n",
      "\n",
      "nam gnorts ,gnorts a hcus syawla saw eH\n",
      "\n",
      "\n",
      "\n",
      "seceip ot og mih was I ,haeY\n",
      "\n",
      "\n",
      "\n",
      "daseceip ot og mih was I\n"
     ]
    }
   ],
   "source": [
    "rev_line(\"textfile\")"
   ]
  },
  {
   "cell_type": "markdown",
   "metadata": {},
   "source": [
    "#### Problem19"
   ]
  },
  {
   "cell_type": "code",
   "execution_count": 51,
   "metadata": {},
   "outputs": [],
   "source": [
    "def head(filename):\n",
    "    lst=open(filename).readlines()\n",
    "    for first_ten in lst[0:10]:\n",
    "        print(first_ten)"
   ]
  },
  {
   "cell_type": "code",
   "execution_count": 52,
   "metadata": {},
   "outputs": [],
   "source": [
    "def tail(filename):\n",
    "    lst=open(filename).readlines()\n",
    "    for last_ten in lst[-10:]:\n",
    "        print(last_ten)"
   ]
  },
  {
   "cell_type": "code",
   "execution_count": 53,
   "metadata": {},
   "outputs": [
    {
     "name": "stdout",
     "output_type": "stream",
     "text": [
      "Hello\n",
      "\n",
      "This is a text file for working with file handling.\n",
      "\n",
      "Poem] Pieces of a Man - gil scott-heron\n",
      "\n",
      "Jagged jigsaw pieces\n",
      "\n",
      "\n",
      "\n",
      "Tossed about the room\n",
      "\n",
      "\n",
      "\n",
      "I saw my grandma sweeping\n",
      "\n",
      "\n",
      "\n",
      "With her old straw broom\n",
      "\n"
     ]
    }
   ],
   "source": [
    "head(\"textfile\")"
   ]
  },
  {
   "cell_type": "code",
   "execution_count": 55,
   "metadata": {},
   "outputs": [
    {
     "name": "stdout",
     "output_type": "stream",
     "text": [
      "\n",
      "\n",
      "I saw him go to pieces\n",
      "\n",
      "\n",
      "\n",
      "He was always such a good man\n",
      "\n",
      "\n",
      "\n",
      "He was always such a strong, strong man\n",
      "\n",
      "\n",
      "\n",
      "Yeah, I saw him go to pieces\n",
      "\n",
      "\n",
      "\n",
      "I saw him go to piecesad\n",
      "\n"
     ]
    }
   ],
   "source": [
    "tail(\"textfile\")"
   ]
  },
  {
   "cell_type": "markdown",
   "metadata": {},
   "source": [
    "#### Problem20"
   ]
  },
  {
   "cell_type": "code",
   "execution_count": 58,
   "metadata": {},
   "outputs": [],
   "source": [
    "def grep(filename,word):\n",
    "    for line in open(filename).readlines():\n",
    "        words=line.split()\n",
    "        if word in words:\n",
    "            print(line)"
   ]
  },
  {
   "cell_type": "code",
   "execution_count": 60,
   "metadata": {},
   "outputs": [
    {
     "name": "stdout",
     "output_type": "stream",
     "text": [
      "I saw him go to pieces\n",
      "\n",
      "I saw him go to pieces\n",
      "\n",
      "Yeah, I saw him go to pieces\n",
      "\n",
      "I saw him go to piecesad\n",
      "\n"
     ]
    }
   ],
   "source": [
    "grep(\"textfile\",\"him\")"
   ]
  },
  {
   "cell_type": "markdown",
   "metadata": {},
   "source": [
    "#### Problem 21"
   ]
  },
  {
   "cell_type": "code",
   "execution_count": 85,
   "metadata": {},
   "outputs": [],
   "source": [
    "def wrap(filename,width):\n",
    "    file=open(filename,'r')\n",
    "    count=0\n",
    "    line=''\n",
    "    while True:\n",
    "        char=file.read(1)\n",
    "        if not char:\n",
    "            break\n",
    "        count+=1\n",
    "        if(count<=width):\n",
    "            line+=char\n",
    "            if(char=='\\n'):\n",
    "                print(line)\n",
    "                count=0\n",
    "                line=''\n",
    "        elif(count>width):\n",
    "            print(line,'\\n')\n",
    "            line=char\n",
    "            count=0\n",
    "    file.close()"
   ]
  },
  {
   "cell_type": "code",
   "execution_count": 87,
   "metadata": {},
   "outputs": [
    {
     "name": "stdout",
     "output_type": "stream",
     "text": [
      "Hello\n",
      "\n",
      "This is a text file  \n",
      "\n",
      "for working with file \n",
      "\n",
      " handling.\n",
      "\n",
      "Poem] Pieces of a Ma \n",
      "\n",
      "n - gil scott-heron\n",
      "\n",
      "Jagged jigsaw pieces \n",
      "\n",
      "\n",
      "\n",
      "\n",
      "Tossed about the roo \n",
      "\n",
      "m\n",
      "\n",
      "\n",
      "\n",
      "I saw my grandma swe \n",
      "\n",
      "eping\n",
      "\n",
      "\n",
      "\n",
      "With her old straw b \n",
      "\n",
      "room\n",
      "\n",
      "\n",
      "\n",
      "But she didn't know  \n",
      "\n",
      "what she was doing\n",
      "\n",
      "\n",
      "\n",
      "She could hardly und \n",
      "\n",
      "erstand\n",
      "\n",
      "\n",
      "\n",
      "That she was really  \n",
      "\n",
      "sweeping up\n",
      "\n",
      "\n",
      "\n",
      "Pieces of a man\n",
      "\n",
      "\n",
      "\n",
      "I saw my daddy meet  \n",
      "\n",
      "the mailman\n",
      "\n",
      "\n",
      "\n",
      "And I heard the mail \n",
      "\n",
      "man say\n",
      "\n",
      "\n",
      "\n",
      "\"Now don't you take  \n",
      "\n",
      "this letter to heart  \n",
      "\n",
      "now, Jimmy\n",
      "\n",
      "\n",
      "\n",
      "Cause they've laid o \n",
      "\n",
      "ff nine others today\" \n",
      "\n",
      "\n",
      "\n",
      "\n",
      "But he didn't know w \n",
      "\n",
      "hat he was saying\n",
      "\n",
      "\n",
      "\n",
      "He could hardly unde \n",
      "\n",
      "rstand\n",
      "\n",
      "\n",
      "\n",
      "That he was only tal \n",
      "\n",
      "king to\n",
      "\n",
      "\n",
      "\n",
      "Pieces of a man\n",
      "\n",
      "\n",
      "\n",
      "I saw the thunder an \n",
      "\n",
      "d heard the lightning \n",
      "\n",
      "\n",
      "\n",
      "\n",
      "And felt the burden  \n",
      "\n",
      "of his shame\n",
      "\n",
      "\n",
      "\n",
      "And for some unknown \n",
      "\n",
      " reason\n",
      "\n",
      "\n",
      "\n",
      "He never turned my w \n",
      "\n",
      "ay\n",
      "\n",
      "\n",
      "\n",
      "Pieces of that lette \n",
      "\n",
      "r\n",
      "\n",
      "\n",
      "\n",
      "Were tossed about th \n",
      "\n",
      "at room\n",
      "\n",
      "\n",
      "\n",
      "And now I hear the s \n",
      "\n",
      "ound of sirens\n",
      "\n",
      "\n",
      "\n",
      "Come knifing through \n",
      "\n",
      " the gloom\n",
      "\n",
      "\n",
      "\n",
      "But they don't know  \n",
      "\n",
      "what they are doing\n",
      "\n",
      "\n",
      "\n",
      "They could hardly un \n",
      "\n",
      "derstand\n",
      "\n",
      "\n",
      "\n",
      "That they're only ar \n",
      "\n",
      "resting\n",
      "\n",
      "\n",
      "\n",
      "Pieces of a man\n",
      "\n",
      "\n",
      "\n",
      "I saw him go to piec \n",
      "\n",
      "es\n",
      "\n",
      "\n",
      "\n",
      "I saw him go to piec \n",
      "\n",
      "es\n",
      "\n",
      "\n",
      "\n",
      "He was always such a \n",
      "\n",
      " good man\n",
      "\n",
      "\n",
      "\n",
      "He was always such a \n",
      "\n",
      " strong, strong man\n",
      "\n",
      "\n",
      "\n",
      "Yeah, I saw him go t \n",
      "\n",
      "o pieces\n",
      "\n",
      "\n",
      "\n",
      "I saw him go to piec \n",
      "\n",
      "esad\n",
      "\n"
     ]
    }
   ],
   "source": [
    "wrap(\"textfile\",20)"
   ]
  },
  {
   "cell_type": "markdown",
   "metadata": {},
   "source": [
    "#### Problem22"
   ]
  },
  {
   "cell_type": "code",
   "execution_count": 91,
   "metadata": {},
   "outputs": [],
   "source": [
    "def wordwrap(filename,width):\n",
    "    list_of_sentences=open(filename,'r').readlines()\n",
    "    for sentence in list_of_sentences:\n",
    "        list_of_words=sentence.split()\n",
    "        words_to_print=[]\n",
    "        len_to_print=0\n",
    "        for word in list_of_words:\n",
    "            if len_to_print+len(word)<=width:\n",
    "                words_to_print.append(word)\n",
    "                len_to_print+=len(word)\n",
    "            elif len_to_print+len(word)>width:\n",
    "                print(' '.join(words_to_print))\n",
    "                words_to_print=[word]\n",
    "                len_to_print=len(word)\n",
    "        if len_to_print!=0:\n",
    "            print(' '.join(words_to_print))\n",
    "            \n",
    "            \n",
    "    "
   ]
  },
  {
   "cell_type": "code",
   "execution_count": 92,
   "metadata": {},
   "outputs": [
    {
     "name": "stdout",
     "output_type": "stream",
     "text": [
      "Hello\n",
      "This is a text file for\n",
      "working with file\n",
      "handling.\n",
      "Poem] Pieces of a Man -\n",
      "gil scott-heron\n",
      "Jagged jigsaw pieces\n",
      "Tossed about the room\n",
      "I saw my grandma\n",
      "sweeping\n",
      "With her old straw broom\n",
      "But she didn't know what\n",
      "she was doing\n",
      "She could hardly\n",
      "understand\n",
      "That she was really\n",
      "sweeping up\n",
      "Pieces of a man\n",
      "I saw my daddy meet the\n",
      "mailman\n",
      "And I heard the mailman\n",
      "say\n",
      "\"Now don't you take this\n",
      "letter to heart now,\n",
      "Jimmy\n",
      "Cause they've laid off\n",
      "nine others today\"\n",
      "But he didn't know what\n",
      "he was saying\n",
      "He could hardly\n",
      "understand\n",
      "That he was only talking\n",
      "to\n",
      "Pieces of a man\n",
      "I saw the thunder and\n",
      "heard the lightning\n",
      "And felt the burden of\n",
      "his shame\n",
      "And for some unknown\n",
      "reason\n",
      "He never turned my way\n",
      "Pieces of that letter\n",
      "Were tossed about that\n",
      "room\n",
      "And now I hear the sound\n",
      "of sirens\n",
      "Come knifing through\n",
      "the gloom\n",
      "But they don't know what\n",
      "they are doing\n",
      "They could hardly\n",
      "understand\n",
      "That they're only\n",
      "arresting\n",
      "Pieces of a man\n",
      "I saw him go to pieces\n",
      "I saw him go to pieces\n",
      "He was always such a good\n",
      "man\n",
      "He was always such a\n",
      "strong, strong man\n",
      "Yeah, I saw him go to\n",
      "pieces\n",
      "I saw him go to piecesad\n"
     ]
    }
   ],
   "source": [
    "wordwrap('textfile',20)"
   ]
  },
  {
   "cell_type": "markdown",
   "metadata": {},
   "source": [
    "#### Problem23"
   ]
  },
  {
   "cell_type": "code",
   "execution_count": 100,
   "metadata": {},
   "outputs": [],
   "source": [
    "def center(filename):\n",
    "    default_len=40\n",
    "    lines=open(filename,'r').readlines()\n",
    "    for line in lines:\n",
    "        if(len(line)<40):\n",
    "            rem=20-int(len(line)/2)\n",
    "            print(\" \"*rem,line,\" \"*rem)\n",
    "            "
   ]
  },
  {
   "cell_type": "code",
   "execution_count": 101,
   "metadata": {},
   "outputs": [
    {
     "name": "stdout",
     "output_type": "stream",
     "text": [
      "                  Hello\n",
      "                  \n",
      "           Jagged jigsaw pieces\n",
      "           \n",
      "                     \n",
      "                     \n",
      "          Tossed about the room\n",
      "          \n",
      "                     \n",
      "                     \n",
      "        I saw my grandma sweeping\n",
      "        \n",
      "                     \n",
      "                     \n",
      "         With her old straw broom\n",
      "         \n",
      "                     \n",
      "                     \n",
      "  But she didn't know what she was doing\n",
      "  \n",
      "                     \n",
      "                     \n",
      "       She could hardly understand\n",
      "       \n",
      "                     \n",
      "                     \n",
      "     That she was really sweeping up\n",
      "     \n",
      "                     \n",
      "                     \n",
      "             Pieces of a man\n",
      "             \n",
      "                     \n",
      "                     \n",
      "     I saw my daddy meet the mailman\n",
      "     \n",
      "                     \n",
      "                     \n",
      "       And I heard the mailman say\n",
      "       \n",
      "                     \n",
      "                     \n",
      "                     \n",
      "                     \n",
      "                     \n",
      "                     \n",
      "  But he didn't know what he was saying\n",
      "  \n",
      "                     \n",
      "                     \n",
      "        He could hardly understand\n",
      "        \n",
      "                     \n",
      "                     \n",
      "       That he was only talking to\n",
      "       \n",
      "                     \n",
      "                     \n",
      "             Pieces of a man\n",
      "             \n",
      "                     \n",
      "                     \n",
      "                     \n",
      "                     \n",
      "     And felt the burden of his shame\n",
      "     \n",
      "                     \n",
      "                     \n",
      "       And for some unknown reason\n",
      "       \n",
      "                     \n",
      "                     \n",
      "          He never turned my way\n",
      "          \n",
      "                     \n",
      "                     \n",
      "          Pieces of that letter\n",
      "          \n",
      "                     \n",
      "                     \n",
      "       Were tossed about that room\n",
      "       \n",
      "                     \n",
      "                     \n",
      "    And now I hear the sound of sirens\n",
      "    \n",
      "                     \n",
      "                     \n",
      "      Come knifing through the gloom\n",
      "      \n",
      "                     \n",
      "                     \n",
      "                     \n",
      "                     \n",
      "       They could hardly understand\n",
      "       \n",
      "                     \n",
      "                     \n",
      "       That they're only arresting\n",
      "       \n",
      "                     \n",
      "                     \n",
      "             Pieces of a man\n",
      "             \n",
      "                     \n",
      "                     \n",
      "          I saw him go to pieces\n",
      "          \n",
      "                     \n",
      "                     \n",
      "          I saw him go to pieces\n",
      "          \n",
      "                     \n",
      "                     \n",
      "      He was always such a good man\n",
      "      \n",
      "                     \n",
      "                     \n",
      "                     \n",
      "                     \n",
      "       Yeah, I saw him go to pieces\n",
      "       \n",
      "                     \n",
      "                     \n",
      "         I saw him go to piecesad\n",
      "         \n"
     ]
    }
   ],
   "source": [
    "center('textfile')"
   ]
  },
  {
   "cell_type": "markdown",
   "metadata": {},
   "source": [
    "List Comprehensions\n",
    "\n",
    "Provides concise way of creating lists"
   ]
  },
  {
   "cell_type": "code",
   "execution_count": 102,
   "metadata": {},
   "outputs": [],
   "source": [
    "a=range(5)"
   ]
  },
  {
   "cell_type": "code",
   "execution_count": 103,
   "metadata": {},
   "outputs": [
    {
     "data": {
      "text/plain": [
       "range(0, 5)"
      ]
     },
     "execution_count": 103,
     "metadata": {},
     "output_type": "execute_result"
    }
   ],
   "source": [
    "a"
   ]
  },
  {
   "cell_type": "code",
   "execution_count": 104,
   "metadata": {},
   "outputs": [
    {
     "data": {
      "text/plain": [
       "[0, 1, 2, 3, 4]"
      ]
     },
     "execution_count": 104,
     "metadata": {},
     "output_type": "execute_result"
    }
   ],
   "source": [
    "[x for x in a]"
   ]
  },
  {
   "cell_type": "code",
   "execution_count": 105,
   "metadata": {},
   "outputs": [
    {
     "data": {
      "text/plain": [
       "[0, 1, 8, 27, 64]"
      ]
     },
     "execution_count": 105,
     "metadata": {},
     "output_type": "execute_result"
    }
   ],
   "source": [
    "[x**3 for x in a]"
   ]
  },
  {
   "cell_type": "markdown",
   "metadata": {},
   "source": [
    "Can also use if"
   ]
  },
  {
   "cell_type": "code",
   "execution_count": 107,
   "metadata": {},
   "outputs": [
    {
     "data": {
      "text/plain": [
       "[1, 27]"
      ]
     },
     "execution_count": 107,
     "metadata": {},
     "output_type": "execute_result"
    }
   ],
   "source": [
    "[x**3 for x in a if (x+1)%2==0]"
   ]
  },
  {
   "cell_type": "markdown",
   "metadata": {},
   "source": [
    "We can iterate over multiple lists using zip"
   ]
  },
  {
   "cell_type": "code",
   "execution_count": 108,
   "metadata": {},
   "outputs": [],
   "source": [
    "a=[2,4,6,8,10]"
   ]
  },
  {
   "cell_type": "code",
   "execution_count": 109,
   "metadata": {},
   "outputs": [],
   "source": [
    "b=[1,3,5,7,9]"
   ]
  },
  {
   "cell_type": "code",
   "execution_count": 117,
   "metadata": {},
   "outputs": [
    {
     "data": {
      "text/plain": [
       "[3, 7, 11, 15, 19]"
      ]
     },
     "execution_count": 117,
     "metadata": {},
     "output_type": "execute_result"
    }
   ],
   "source": [
    "[x+y for x,y in zip(a,b)]"
   ]
  },
  {
   "cell_type": "markdown",
   "metadata": {},
   "source": [
    "Multiple for clauses"
   ]
  },
  {
   "cell_type": "code",
   "execution_count": 118,
   "metadata": {},
   "outputs": [
    {
     "data": {
      "text/plain": [
       "[[0, 0],\n",
       " [0, 1],\n",
       " [0, 2],\n",
       " [0, 3],\n",
       " [0, 4],\n",
       " [1, 0],\n",
       " [1, 1],\n",
       " [1, 2],\n",
       " [1, 3],\n",
       " [1, 4],\n",
       " [2, 0],\n",
       " [2, 1],\n",
       " [2, 2],\n",
       " [2, 3],\n",
       " [2, 4],\n",
       " [3, 0],\n",
       " [3, 1],\n",
       " [3, 2],\n",
       " [3, 3],\n",
       " [3, 4],\n",
       " [4, 0],\n",
       " [4, 1],\n",
       " [4, 2],\n",
       " [4, 3],\n",
       " [4, 4]]"
      ]
     },
     "execution_count": 118,
     "metadata": {},
     "output_type": "execute_result"
    }
   ],
   "source": [
    "[[x,y] for x in range(5) for y in range(5)]"
   ]
  },
  {
   "cell_type": "code",
   "execution_count": 119,
   "metadata": {},
   "outputs": [
    {
     "data": {
      "text/plain": [
       "[[0, 0], [0, 2], [0, 4]]"
      ]
     },
     "execution_count": 119,
     "metadata": {},
     "output_type": "execute_result"
    }
   ],
   "source": [
    "[[x,y] for x in range(5) for y in range(5) if x+y%2==0]"
   ]
  },
  {
   "cell_type": "markdown",
   "metadata": {},
   "source": [
    "Pythagorean Triplets"
   ]
  },
  {
   "cell_type": "code",
   "execution_count": 122,
   "metadata": {},
   "outputs": [
    {
     "data": {
      "text/plain": [
       "[[3, 4, 5], [5, 12, 13], [6, 8, 10], [8, 15, 17], [9, 12, 15], [12, 16, 20]]"
      ]
     },
     "execution_count": 122,
     "metadata": {},
     "output_type": "execute_result"
    }
   ],
   "source": [
    "[[x,y,z] for x in range(1,25) for y in range(x,25) for z in range(y,25) if x**2+y**2==z**2]"
   ]
  },
  {
   "cell_type": "markdown",
   "metadata": {},
   "source": [
    "#### Problem24"
   ]
  },
  {
   "cell_type": "code",
   "execution_count": 123,
   "metadata": {},
   "outputs": [],
   "source": [
    "def own_zip(list1,list2):\n",
    "    return [(x,y) for count,x in enumerate(list1) for count2,y in enumerate(list2) if count==count2 ]"
   ]
  },
  {
   "cell_type": "code",
   "execution_count": 124,
   "metadata": {},
   "outputs": [
    {
     "data": {
      "text/plain": [
       "[(2, 1), (4, 3), (6, 5), (8, 7), (10, 9)]"
      ]
     },
     "execution_count": 124,
     "metadata": {},
     "output_type": "execute_result"
    }
   ],
   "source": [
    "own_zip(a,b)"
   ]
  },
  {
   "cell_type": "code",
   "execution_count": 129,
   "metadata": {},
   "outputs": [],
   "source": [
    "def own_zip(list1,list2):\n",
    "    return[(x,list2[count]) for count,x in enumerate(list1)]"
   ]
  },
  {
   "cell_type": "code",
   "execution_count": 130,
   "metadata": {},
   "outputs": [
    {
     "data": {
      "text/plain": [
       "[(2, 1), (4, 3), (6, 5), (8, 7), (10, 9)]"
      ]
     },
     "execution_count": 130,
     "metadata": {},
     "output_type": "execute_result"
    }
   ],
   "source": [
    "own_zip(a,b)"
   ]
  },
  {
   "cell_type": "markdown",
   "metadata": {},
   "source": [
    "#### Problem25\n",
    "\n",
    "Maps"
   ]
  },
  {
   "cell_type": "code",
   "execution_count": 131,
   "metadata": {},
   "outputs": [],
   "source": [
    "def square(x):\n",
    "    return x*x"
   ]
  },
  {
   "cell_type": "code",
   "execution_count": 133,
   "metadata": {},
   "outputs": [
    {
     "data": {
      "text/plain": [
       "[0, 1, 4, 9, 16]"
      ]
     },
     "execution_count": 133,
     "metadata": {},
     "output_type": "execute_result"
    }
   ],
   "source": [
    "list(map(square,range(5)))"
   ]
  },
  {
   "cell_type": "code",
   "execution_count": 135,
   "metadata": {},
   "outputs": [],
   "source": [
    "def own_map(func,list1):\n",
    "    return [func(x) for x in list1]"
   ]
  },
  {
   "cell_type": "code",
   "execution_count": 136,
   "metadata": {},
   "outputs": [
    {
     "data": {
      "text/plain": [
       "[0, 1, 4, 9, 16]"
      ]
     },
     "execution_count": 136,
     "metadata": {},
     "output_type": "execute_result"
    }
   ],
   "source": [
    "own_map(square,range(5))"
   ]
  },
  {
   "cell_type": "markdown",
   "metadata": {},
   "source": [
    "#### Problem26\n",
    "\n",
    "Filter"
   ]
  },
  {
   "cell_type": "code",
   "execution_count": 138,
   "metadata": {},
   "outputs": [],
   "source": [
    "def even(x):\n",
    "    return x%2==0\n"
   ]
  },
  {
   "cell_type": "code",
   "execution_count": 140,
   "metadata": {},
   "outputs": [
    {
     "data": {
      "text/plain": [
       "[0, 2, 4, 6, 8]"
      ]
     },
     "execution_count": 140,
     "metadata": {},
     "output_type": "execute_result"
    }
   ],
   "source": [
    "list(filter(even,range(10)))"
   ]
  },
  {
   "cell_type": "code",
   "execution_count": 141,
   "metadata": {},
   "outputs": [],
   "source": [
    "def own_filter(func,list1):\n",
    "    return [x for x in list1 if func(x)]"
   ]
  },
  {
   "cell_type": "code",
   "execution_count": 142,
   "metadata": {},
   "outputs": [
    {
     "data": {
      "text/plain": [
       "[0, 2, 4, 6, 8]"
      ]
     },
     "execution_count": 142,
     "metadata": {},
     "output_type": "execute_result"
    }
   ],
   "source": [
    "own_filter(even,range(10))"
   ]
  },
  {
   "cell_type": "markdown",
   "metadata": {},
   "source": [
    "##### Problem27"
   ]
  },
  {
   "cell_type": "code",
   "execution_count": 146,
   "metadata": {},
   "outputs": [],
   "source": [
    "def triplets(n):\n",
    "    return [[x,y,z] for x in range(1,n) for y in range(x,n) for z in range(y,n) if x+y==z]"
   ]
  },
  {
   "cell_type": "code",
   "execution_count": 147,
   "metadata": {},
   "outputs": [
    {
     "data": {
      "text/plain": [
       "[[1, 1, 2], [1, 2, 3], [1, 3, 4], [2, 2, 4]]"
      ]
     },
     "execution_count": 147,
     "metadata": {},
     "output_type": "execute_result"
    }
   ],
   "source": [
    "triplets(5)"
   ]
  },
  {
   "cell_type": "markdown",
   "metadata": {},
   "source": [
    "#### Problem28"
   ]
  },
  {
   "cell_type": "code",
   "execution_count": 162,
   "metadata": {},
   "outputs": [],
   "source": [
    "def own_enumerate(list1):\n",
    "    return [(count,list1[count]) for count in range(len(list1)-1)]"
   ]
  },
  {
   "cell_type": "code",
   "execution_count": 163,
   "metadata": {},
   "outputs": [
    {
     "data": {
      "text/plain": [
       "[(0, 2), (1, 4), (2, 6), (3, 8)]"
      ]
     },
     "execution_count": 163,
     "metadata": {},
     "output_type": "execute_result"
    }
   ],
   "source": [
    "own_enumerate(a)"
   ]
  },
  {
   "cell_type": "markdown",
   "metadata": {},
   "source": [
    "#### Problem29"
   ]
  },
  {
   "cell_type": "code",
   "execution_count": 184,
   "metadata": {},
   "outputs": [],
   "source": [
    "def own_array(rows,cols):\n",
    "    return [ [None]*cols for x in range(0,rows)]"
   ]
  },
  {
   "cell_type": "code",
   "execution_count": 185,
   "metadata": {},
   "outputs": [],
   "source": [
    "arr1=own_array(3,3)"
   ]
  },
  {
   "cell_type": "code",
   "execution_count": 186,
   "metadata": {},
   "outputs": [
    {
     "data": {
      "text/plain": [
       "[[None, None, None], [None, None, None], [None, None, None]]"
      ]
     },
     "execution_count": 186,
     "metadata": {},
     "output_type": "execute_result"
    }
   ],
   "source": [
    "arr1"
   ]
  },
  {
   "cell_type": "code",
   "execution_count": 187,
   "metadata": {},
   "outputs": [],
   "source": [
    "arr1[2][2]=0"
   ]
  },
  {
   "cell_type": "code",
   "execution_count": 188,
   "metadata": {},
   "outputs": [
    {
     "data": {
      "text/plain": [
       "[[None, None, None], [None, None, None], [None, None, 0]]"
      ]
     },
     "execution_count": 188,
     "metadata": {},
     "output_type": "execute_result"
    }
   ],
   "source": [
    "arr1"
   ]
  },
  {
   "cell_type": "markdown",
   "metadata": {},
   "source": [
    "#### Problem30"
   ]
  },
  {
   "cell_type": "code",
   "execution_count": 198,
   "metadata": {},
   "outputs": [],
   "source": [
    "def parse_csv(filename):\n",
    "    lines=open(filename,'r').readlines()\n",
    "    list_fin=[]\n",
    "    for line in lines:\n",
    "        list_fin.append(line.split(','))\n",
    "    return list_fin"
   ]
  },
  {
   "cell_type": "code",
   "execution_count": 199,
   "metadata": {},
   "outputs": [
    {
     "data": {
      "text/plain": [
       "[['a', 'b', 'c\\n'], ['1', '2', '3\\n'], ['2', '3', '4\\n'], ['3', '4', '5']]"
      ]
     },
     "execution_count": 199,
     "metadata": {},
     "output_type": "execute_result"
    }
   ],
   "source": [
    "parse_csv('filee.csv')"
   ]
  },
  {
   "cell_type": "markdown",
   "metadata": {},
   "source": [
    "#### Problem31"
   ]
  },
  {
   "cell_type": "code",
   "execution_count": 200,
   "metadata": {},
   "outputs": [],
   "source": [
    "def parse_csv(filename,delimiter):\n",
    "    lines=open(filename,'r').readlines()\n",
    "    list_fin=[]\n",
    "    for line in lines:\n",
    "        list_fin.append(line.split(delimiter))\n",
    "    return list_fin\n",
    "    "
   ]
  },
  {
   "cell_type": "markdown",
   "metadata": {},
   "source": [
    "##### Problem32 "
   ]
  },
  {
   "cell_type": "code",
   "execution_count": 212,
   "metadata": {},
   "outputs": [],
   "source": [
    "def mutate(original,changed):\n",
    "    if(len(original)-len(changed)==1):\n",
    "        diff=0\n",
    "        for count,x in enumerate(changed):\n",
    "            if diff==1:\n",
    "                if x!=original[count+1]:\n",
    "                    return false\n",
    "            if x!=original[count]:\n",
    "                diff+=1\n",
    "        return True\n",
    "    \n",
    "    check=[[index,x,changed[y]] for index,x in enumerate(original) if x!=changed[y]]\n",
    "    if(len(check)>2):\n",
    "        return False\n",
    "    if(len(check)<=1):\n",
    "        return True\n",
    "    if(len(check)==2):\n",
    "        if (check[0][2]==check[1][1] and check[0][1]==check[1][2]):\n",
    "            return True\n",
    "        else:\n",
    "            return False"
   ]
  },
  {
   "cell_type": "code",
   "execution_count": 213,
   "metadata": {},
   "outputs": [
    {
     "data": {
      "text/plain": [
       "True"
      ]
     },
     "execution_count": 213,
     "metadata": {},
     "output_type": "execute_result"
    }
   ],
   "source": [
    "mutate(\"hello\",\"helo\")"
   ]
  },
  {
   "cell_type": "markdown",
   "metadata": {},
   "source": [
    "Dictionaries\n",
    "\n",
    "Like lists but can be indexed by non integer keys and they are not ordered"
   ]
  },
  {
   "cell_type": "code",
   "execution_count": 216,
   "metadata": {},
   "outputs": [],
   "source": [
    "a={1:23,(2,'m'):\" hello\",\"hi\": [1,2]}"
   ]
  },
  {
   "cell_type": "code",
   "execution_count": 217,
   "metadata": {},
   "outputs": [
    {
     "data": {
      "text/plain": [
       "23"
      ]
     },
     "execution_count": 217,
     "metadata": {},
     "output_type": "execute_result"
    }
   ],
   "source": [
    "a[1]"
   ]
  },
  {
   "cell_type": "code",
   "execution_count": 218,
   "metadata": {},
   "outputs": [
    {
     "data": {
      "text/plain": [
       "' hello'"
      ]
     },
     "execution_count": 218,
     "metadata": {},
     "output_type": "execute_result"
    }
   ],
   "source": [
    "a[(2,'m')]"
   ]
  },
  {
   "cell_type": "code",
   "execution_count": 219,
   "metadata": {},
   "outputs": [
    {
     "data": {
      "text/plain": [
       "[1, 2]"
      ]
     },
     "execution_count": 219,
     "metadata": {},
     "output_type": "execute_result"
    }
   ],
   "source": [
    "a[\"hi\"]"
   ]
  },
  {
   "cell_type": "code",
   "execution_count": 220,
   "metadata": {},
   "outputs": [],
   "source": [
    "a[\"ree\"]=90"
   ]
  },
  {
   "cell_type": "code",
   "execution_count": 221,
   "metadata": {},
   "outputs": [
    {
     "data": {
      "text/plain": [
       "{1: 23, (2, 'm'): ' hello', 'hi': [1, 2], 'ree': 90}"
      ]
     },
     "execution_count": 221,
     "metadata": {},
     "output_type": "execute_result"
    }
   ],
   "source": [
    "a"
   ]
  },
  {
   "cell_type": "code",
   "execution_count": 222,
   "metadata": {},
   "outputs": [],
   "source": [
    "del a[1]"
   ]
  },
  {
   "cell_type": "code",
   "execution_count": 223,
   "metadata": {},
   "outputs": [
    {
     "data": {
      "text/plain": [
       "{(2, 'm'): ' hello', 'hi': [1, 2], 'ree': 90}"
      ]
     },
     "execution_count": 223,
     "metadata": {},
     "output_type": "execute_result"
    }
   ],
   "source": [
    "a"
   ]
  },
  {
   "cell_type": "markdown",
   "metadata": {},
   "source": [
    "Keys, Values, Items"
   ]
  },
  {
   "cell_type": "code",
   "execution_count": 224,
   "metadata": {},
   "outputs": [
    {
     "data": {
      "text/plain": [
       "dict_keys([(2, 'm'), 'hi', 'ree'])"
      ]
     },
     "execution_count": 224,
     "metadata": {},
     "output_type": "execute_result"
    }
   ],
   "source": [
    "a.keys()"
   ]
  },
  {
   "cell_type": "code",
   "execution_count": 225,
   "metadata": {},
   "outputs": [
    {
     "data": {
      "text/plain": [
       "dict_values([' hello', [1, 2], 90])"
      ]
     },
     "execution_count": 225,
     "metadata": {},
     "output_type": "execute_result"
    }
   ],
   "source": [
    "a.values()"
   ]
  },
  {
   "cell_type": "code",
   "execution_count": 226,
   "metadata": {},
   "outputs": [
    {
     "data": {
      "text/plain": [
       "dict_items([((2, 'm'), ' hello'), ('hi', [1, 2]), ('ree', 90)])"
      ]
     },
     "execution_count": 226,
     "metadata": {},
     "output_type": "execute_result"
    }
   ],
   "source": [
    "a.items()"
   ]
  },
  {
   "cell_type": "code",
   "execution_count": 227,
   "metadata": {},
   "outputs": [
    {
     "data": {
      "text/plain": [
       "[(2, 'm'), 'hi', 'ree']"
      ]
     },
     "execution_count": 227,
     "metadata": {},
     "output_type": "execute_result"
    }
   ],
   "source": [
    "[key for key in a]"
   ]
  },
  {
   "cell_type": "code",
   "execution_count": 228,
   "metadata": {},
   "outputs": [
    {
     "data": {
      "text/plain": [
       "[((2, 'm'), ' hello'), ('hi', [1, 2]), ('ree', 90)]"
      ]
     },
     "execution_count": 228,
     "metadata": {},
     "output_type": "execute_result"
    }
   ],
   "source": [
    "[(key,values) for key,values in a.items()]"
   ]
  },
  {
   "cell_type": "markdown",
   "metadata": {},
   "source": [
    "in or has_key"
   ]
  },
  {
   "cell_type": "code",
   "execution_count": 229,
   "metadata": {},
   "outputs": [
    {
     "data": {
      "text/plain": [
       "True"
      ]
     },
     "execution_count": 229,
     "metadata": {},
     "output_type": "execute_result"
    }
   ],
   "source": [
    "'hi' in a"
   ]
  },
  {
   "cell_type": "code",
   "execution_count": 231,
   "metadata": {},
   "outputs": [
    {
     "ename": "AttributeError",
     "evalue": "'dict' object has no attribute 'has_key'",
     "output_type": "error",
     "traceback": [
      "\u001b[1;31m---------------------------------------------------------------------------\u001b[0m",
      "\u001b[1;31mAttributeError\u001b[0m                            Traceback (most recent call last)",
      "\u001b[1;32m<ipython-input-231-dcdb4dc0120c>\u001b[0m in \u001b[0;36m<module>\u001b[1;34m\u001b[0m\n\u001b[1;32m----> 1\u001b[1;33m \u001b[0ma\u001b[0m\u001b[1;33m.\u001b[0m\u001b[0mhas_key\u001b[0m\u001b[1;33m(\u001b[0m\u001b[1;34m'hi'\u001b[0m\u001b[1;33m)\u001b[0m\u001b[1;33m\u001b[0m\u001b[1;33m\u001b[0m\u001b[0m\n\u001b[0m",
      "\u001b[1;31mAttributeError\u001b[0m: 'dict' object has no attribute 'has_key'"
     ]
    }
   ],
   "source": [
    "a.has_key('hi')"
   ]
  },
  {
   "cell_type": "markdown",
   "metadata": {},
   "source": [
    "has_key has been removed from python3"
   ]
  },
  {
   "cell_type": "markdown",
   "metadata": {},
   "source": [
    "get, set_default"
   ]
  },
  {
   "cell_type": "code",
   "execution_count": 232,
   "metadata": {},
   "outputs": [
    {
     "data": {
      "text/plain": [
       "[1, 2]"
      ]
     },
     "execution_count": 232,
     "metadata": {},
     "output_type": "execute_result"
    }
   ],
   "source": [
    "a.get('hi',3)"
   ]
  },
  {
   "cell_type": "code",
   "execution_count": 233,
   "metadata": {},
   "outputs": [
    {
     "data": {
      "text/plain": [
       "3"
      ]
     },
     "execution_count": 233,
     "metadata": {},
     "output_type": "execute_result"
    }
   ],
   "source": [
    "a.get('oops',3)"
   ]
  },
  {
   "cell_type": "code",
   "execution_count": 237,
   "metadata": {},
   "outputs": [
    {
     "data": {
      "text/plain": [
       "[1, 2]"
      ]
     },
     "execution_count": 237,
     "metadata": {},
     "output_type": "execute_result"
    }
   ],
   "source": [
    "a.setdefault('hi',0)"
   ]
  },
  {
   "cell_type": "code",
   "execution_count": 238,
   "metadata": {},
   "outputs": [
    {
     "data": {
      "text/plain": [
       "{(2, 'm'): ' hello', 'hi': [1, 2], 'ree': 90}"
      ]
     },
     "execution_count": 238,
     "metadata": {},
     "output_type": "execute_result"
    }
   ],
   "source": [
    "a"
   ]
  },
  {
   "cell_type": "code",
   "execution_count": 240,
   "metadata": {},
   "outputs": [
    {
     "data": {
      "text/plain": [
       "9"
      ]
     },
     "execution_count": 240,
     "metadata": {},
     "output_type": "execute_result"
    }
   ],
   "source": [
    "a.setdefault('oops',9)"
   ]
  },
  {
   "cell_type": "code",
   "execution_count": 241,
   "metadata": {},
   "outputs": [
    {
     "data": {
      "text/plain": [
       "{(2, 'm'): ' hello', 'hi': [1, 2], 'ree': 90, 'oops': 9}"
      ]
     },
     "execution_count": 241,
     "metadata": {},
     "output_type": "execute_result"
    }
   ],
   "source": [
    "a"
   ]
  },
  {
   "cell_type": "markdown",
   "metadata": {},
   "source": [
    "String formatting"
   ]
  },
  {
   "cell_type": "code",
   "execution_count": 243,
   "metadata": {},
   "outputs": [
    {
     "data": {
      "text/plain": [
       "' hi muskan '"
      ]
     },
     "execution_count": 243,
     "metadata": {},
     "output_type": "execute_result"
    }
   ],
   "source": [
    "\" hi %(name)s \"%{'name':'muskan'}"
   ]
  },
  {
   "cell_type": "code",
   "execution_count": 246,
   "metadata": {},
   "outputs": [],
   "source": [
    "def count(list1):\n",
    "    dictionary={}\n",
    "    for word in list1:\n",
    "        dictionary[word]=dictionary.get(word,0)+1\n",
    "    return dictionary\n",
    "        "
   ]
  },
  {
   "cell_type": "markdown",
   "metadata": {},
   "source": [
    "#### Problem34 "
   ]
  },
  {
   "cell_type": "code",
   "execution_count": 15,
   "metadata": {},
   "outputs": [],
   "source": [
    "def count(list1):\n",
    "    dictionary={}\n",
    "    for word in list1:\n",
    "        dictionary[word]=dictionary.get(word,0)+1\n",
    "    list_fin=[(word,occurences) for word,occurences in dictionary.items()]\n",
    "    list_fin.sort(key = lambda x:x[1],reverse=True)\n",
    "    for x in list_fin:\n",
    "        print(x[0])"
   ]
  },
  {
   "cell_type": "code",
   "execution_count": 16,
   "metadata": {},
   "outputs": [],
   "source": [
    "list2=['hi','i','am','a','girl','the','apple','a','book','a','girl']"
   ]
  },
  {
   "cell_type": "code",
   "execution_count": 17,
   "metadata": {},
   "outputs": [
    {
     "name": "stdout",
     "output_type": "stream",
     "text": [
      "a\n",
      "girl\n",
      "hi\n",
      "i\n",
      "am\n",
      "the\n",
      "apple\n",
      "book\n"
     ]
    }
   ],
   "source": [
    "count(list2)"
   ]
  },
  {
   "cell_type": "code",
   "execution_count": 31,
   "metadata": {},
   "outputs": [],
   "source": [
    "def count(list1):\n",
    "    dictionary={}\n",
    "    for word in list1:\n",
    "        dictionary[word]=dictionary.get(word,0)+1\n",
    "    sorted_dict=sorted(dictionary.items(), key= lambda x: x[1],reverse=True)\n",
    "    for x in sorted_dict:\n",
    "        print(x[0])"
   ]
  },
  {
   "cell_type": "code",
   "execution_count": 32,
   "metadata": {},
   "outputs": [
    {
     "name": "stdout",
     "output_type": "stream",
     "text": [
      "a\n",
      "girl\n",
      "hi\n",
      "i\n",
      "am\n",
      "the\n",
      "apple\n",
      "book\n"
     ]
    }
   ],
   "source": [
    "count(list2)"
   ]
  },
  {
   "cell_type": "markdown",
   "metadata": {},
   "source": [
    "#### Problem35"
   ]
  },
  {
   "cell_type": "code",
   "execution_count": 49,
   "metadata": {},
   "outputs": [],
   "source": [
    "def count_char(filename):\n",
    "    f=open(filename,'r')\n",
    "    dictionary={}\n",
    "    for x in f:\n",
    "        for y in x:\n",
    "            dictionary[y]=dictionary.get(y,0)+1\n",
    "    f.close()\n",
    "    list_fin=sorted(dictionary.items(), key= lambda x:x[1],reverse=True)\n",
    "    for x in list_fin:\n",
    "        print(x)\n",
    "    \n",
    "        "
   ]
  },
  {
   "cell_type": "code",
   "execution_count": 50,
   "metadata": {},
   "outputs": [
    {
     "name": "stdout",
     "output_type": "stream",
     "text": [
      "(' ', 180)\n",
      "('e', 94)\n",
      "('a', 77)\n",
      "('\\n', 70)\n",
      "('t', 67)\n",
      "('o', 66)\n",
      "('n', 60)\n",
      "('s', 59)\n",
      "('h', 56)\n",
      "('i', 45)\n",
      "('d', 44)\n",
      "('r', 38)\n",
      "('w', 32)\n",
      "('l', 28)\n",
      "('m', 28)\n",
      "('g', 26)\n",
      "('y', 23)\n",
      "('u', 22)\n",
      "('c', 16)\n",
      "('f', 15)\n",
      "('I', 9)\n",
      "('k', 8)\n",
      "('p', 8)\n",
      "('T', 6)\n",
      "('P', 6)\n",
      "(\"'\", 6)\n",
      "('H', 5)\n",
      "('b', 4)\n",
      "('A', 4)\n",
      "('B', 3)\n",
      "(',', 3)\n",
      "('-', 2)\n",
      "('J', 2)\n",
      "('W', 2)\n",
      "('\"', 2)\n",
      "('C', 2)\n",
      "('v', 2)\n",
      "('x', 1)\n",
      "('.', 1)\n",
      "(']', 1)\n",
      "('M', 1)\n",
      "('j', 1)\n",
      "('S', 1)\n",
      "('N', 1)\n",
      "('Y', 1)\n"
     ]
    }
   ],
   "source": [
    "count_char('textfile')"
   ]
  },
  {
   "cell_type": "markdown",
   "metadata": {},
   "source": [
    "#### Problem36"
   ]
  },
  {
   "cell_type": "code",
   "execution_count": 52,
   "metadata": {},
   "outputs": [],
   "source": [
    "def comp(old_str,new_str):\n",
    "    dict_old={}\n",
    "    dict_new={}\n",
    "    for x in old_str:\n",
    "        dict_old[x]=dict_old.get(x,0)+1\n",
    "    for x in new_str:\n",
    "        dict_new[x]=dict_new.get(x,0)+1\n",
    "    if dict_old==dict_new:\n",
    "        return True\n",
    "    return False"
   ]
  },
  {
   "cell_type": "code",
   "execution_count": 61,
   "metadata": {},
   "outputs": [],
   "source": [
    "def anagram(list_of_words):\n",
    "    fin_list=[]\n",
    "    for word in list_of_words:\n",
    "        new_set=set()\n",
    "        for n_word in list_of_words:\n",
    "            if(comp(word,n_word)):\n",
    "                new_set.add(word)\n",
    "                new_set.add(n_word)\n",
    "        if(list(new_set) not in fin_list):\n",
    "            fin_list.append(list(new_set))\n",
    "    print(fin_list)\n",
    "                \n",
    "            \n",
    "        \n",
    "        "
   ]
  },
  {
   "cell_type": "code",
   "execution_count": 62,
   "metadata": {},
   "outputs": [
    {
     "name": "stdout",
     "output_type": "stream",
     "text": [
      "[['eat', 'ate', 'tea'], ['done', 'node'], ['soup']]\n"
     ]
    }
   ],
   "source": [
    "anagram(['eat', 'ate', 'done', 'tea', 'soup', 'node'])"
   ]
  },
  {
   "cell_type": "markdown",
   "metadata": {},
   "source": [
    "#### Problem37\n",
    "\n",
    "(also see problem34)"
   ]
  },
  {
   "cell_type": "code",
   "execution_count": 64,
   "metadata": {},
   "outputs": [],
   "source": [
    "def valuesort(dictionary):\n",
    "    list1=sorted(dictionary.items(), key= lambda x:x[0])\n",
    "    return [x[1] for x in list1 ]"
   ]
  },
  {
   "cell_type": "code",
   "execution_count": 65,
   "metadata": {},
   "outputs": [
    {
     "data": {
      "text/plain": [
       "[3, 1, 2]"
      ]
     },
     "execution_count": 65,
     "metadata": {},
     "output_type": "execute_result"
    }
   ],
   "source": [
    "valuesort({'x': 1, 'y': 2, 'a': 3})"
   ]
  },
  {
   "cell_type": "markdown",
   "metadata": {},
   "source": [
    "#### Problem38"
   ]
  },
  {
   "cell_type": "code",
   "execution_count": 68,
   "metadata": {},
   "outputs": [],
   "source": [
    "def invertdict(dictionary):\n",
    "    dictionary2={}\n",
    "    for key,val in dictionary.items():\n",
    "        dictionary2[val]=key\n",
    "    return dictionary2\n",
    "        "
   ]
  },
  {
   "cell_type": "code",
   "execution_count": 69,
   "metadata": {},
   "outputs": [
    {
     "data": {
      "text/plain": [
       "{1: 'x', 2: 'y', 3: 'z'}"
      ]
     },
     "execution_count": 69,
     "metadata": {},
     "output_type": "execute_result"
    }
   ],
   "source": [
    "invertdict({'x': 1, 'y': 2, 'z': 3})"
   ]
  },
  {
   "cell_type": "markdown",
   "metadata": {},
   "source": [
    "Understanding python execution envir.\n",
    "\n",
    "python stores all variables as dictionary"
   ]
  },
  {
   "cell_type": "code",
   "execution_count": 70,
   "metadata": {},
   "outputs": [
    {
     "data": {
      "text/plain": [
       "{'__name__': '__main__',\n",
       " '__doc__': 'Automatically created module for IPython interactive environment',\n",
       " '__package__': None,\n",
       " '__loader__': None,\n",
       " '__spec__': None,\n",
       " '__builtin__': <module 'builtins' (built-in)>,\n",
       " '__builtins__': <module 'builtins' (built-in)>,\n",
       " '_ih': ['',\n",
       "  'def count(list1):\\n    dictionary={}\\n    for word in list1:\\n        dictionary[word]=dictionary.get(word,0)+1\\n    list_unsorted=[(word,occurences) for word,occurences in dictionary.get_items()]\\n    sorted_list=list_unsorted.sort(key = lambda x:x[1])\\n    return sorted_list',\n",
       "  \"list2=['hi','i','am','a','girl','the','apple','a','book','a','girl']\",\n",
       "  'count(list2)',\n",
       "  'def count(list1):\\n    dictionary={}\\n    for word in list1:\\n        dictionary[word]=dictionary.get(word,0)+1\\n    list_unsorted=[(word,occurences) for word,occurences in dictionary.items()]\\n    sorted_list=list_unsorted.sort(key = lambda x:x[1])\\n    return sorted_list',\n",
       "  \"list2=['hi','i','am','a','girl','the','apple','a','book','a','girl']\",\n",
       "  'count(list2)',\n",
       "  'def count(list1):\\n    dictionary={}\\n    for word in list1:\\n        dictionary[word]=dictionary.get(word,0)+1\\n    list_unsorted=[(word,occurences) for word,occurences in dictionary.items()]\\n    sorted_list=list_unsorted.sort(key = lambda x:x[1])\\n    return sorted_list',\n",
       "  \"list2=['hi','i','am','a','girl','the','apple','a','book','a','girl']\",\n",
       "  'list1=count(list2)',\n",
       "  'list1',\n",
       "  'print(list1)',\n",
       "  'def count(list1):\\n    dictionary={}\\n    for word in list1:\\n        dictionary[word]=dictionary.get(word,0)+1\\n    list_fin=[(word,occurences) for word,occurences in dictionary.items()]\\n    list_fin.sort(key = lambda x:x[1])\\n    for x in list_fin:\\n        print(x[0])',\n",
       "  \"list2=['hi','i','am','a','girl','the','apple','a','book','a','girl']\",\n",
       "  'count(list2)',\n",
       "  'def count(list1):\\n    dictionary={}\\n    for word in list1:\\n        dictionary[word]=dictionary.get(word,0)+1\\n    list_fin=[(word,occurences) for word,occurences in dictionary.items()]\\n    list_fin.sort(key = lambda x:x[1],reverse=True)\\n    for x in list_fin:\\n        print(x[0])',\n",
       "  \"list2=['hi','i','am','a','girl','the','apple','a','book','a','girl']\",\n",
       "  'count(list2)',\n",
       "  'def count(list1):\\n    dictionary={}\\n    for word in list1:\\n        disctionary[word]=dictionary.get(word,0)+1\\n    sorted_dict=sorted(dictionary.items(), key= lambda x: x[1])',\n",
       "  'def count(list1):\\n    dictionary={}\\n    for word in list1:\\n        disctionary[word]=dictionary.get(word,0)+1\\n    sorted_dict=sorted(dictionary.items(), key= lambda x: x[1])\\n    for x in sorted_dict.keys():\\n        print(x)',\n",
       "  'count(list2)',\n",
       "  'def count(list1):\\n    dictionary={}\\n    for word in list1:\\n        dictionary[word]=dictionary.get(word,0)+1\\n    sorted_dict=sorted(dictionary.items(), key= lambda x: x[1])\\n    for x in sorted_dict.keys():\\n        print(x)',\n",
       "  'count(list2)',\n",
       "  'def count(list1):\\n    dictionary={}\\n    for word in list1:\\n        dictionary[word]=dictionary.get(word,0)+1\\n    sorted_dict=sorted(dictionary.items(), key= lambda x: x[1])\\n    for x in sorted_dict.key():\\n        print(x)',\n",
       "  'count(list2)',\n",
       "  'def count(list1):\\n    dictionary={}\\n    for word in list1:\\n        dictionary[word]=dictionary.get(word,0)+1\\n    sorted_dict=sorted(dictionary.items(), key= lambda x: x[1])\\n    for x in sorted_dict.keys():\\n        print(x)',\n",
       "  'count(list2)',\n",
       "  'def count(list1):\\n    dictionary={}\\n    for word in list1:\\n        dictionary[word]=dictionary.get(word,0)+1\\n    sorted_dict=sorted(dictionary.items(), key= lambda x: x[1])\\n    for x in sorted_dict:\\n        print(x)',\n",
       "  'count(list2)',\n",
       "  'def count(list1):\\n    dictionary={}\\n    for word in list1:\\n        dictionary[word]=dictionary.get(word,0)+1\\n    sorted_dict=sorted(dictionary.items(), key= lambda x: x[1])\\n    for x in sorted_dict:\\n        print(x[0])',\n",
       "  'count(list2)',\n",
       "  'def count(list1):\\n    dictionary={}\\n    for word in list1:\\n        dictionary[word]=dictionary.get(word,0)+1\\n    sorted_dict=sorted(dictionary.items(), key= lambda x: x[1],reverse=True)\\n    for x in sorted_dict:\\n        print(x[0])',\n",
       "  'count(list2)',\n",
       "  \"def count_char(filename):\\n    f=open(filename,'read')\\n    for x in f:\\n        print(x)\\n    f.close()\\n    \\n        \",\n",
       "  \"count_char('textfile')\",\n",
       "  \"def count_char(filename):\\n    f=open(filename,'r')\\n    for x in f:\\n        print(x)\\n    f.close()\\n    \\n        \",\n",
       "  \"count_char('textfile')\",\n",
       "  \"def count_char(filename):\\n    f=open(filename,'r')\\n    for x in f:\\n        print(x,'#####')\\n    f.close()\\n    \\n        \",\n",
       "  \"count_char('textfile')\",\n",
       "  \"def count_char(filename):\\n    f=open(filename,'r')\\n    for x in f:\\n        for y in x.split(''):\\n            print(y)\\n    f.close()\\n    \\n        \",\n",
       "  \"count_char('textfile')\",\n",
       "  \"def count_char(filename):\\n    f=open(filename,'r')\\n    for x in f:\\n        for y in x:\\n            print(y)\\n    f.close()\\n    \\n        \",\n",
       "  \"count_char('textfile')\",\n",
       "  \"def count_char(filename):\\n    f=open(filename,'r')\\n    dictionary={}\\n    for x in f:\\n        for y in x:\\n            dictionary[y]=dictionary.get(y,0)+1\\n    f.close()\\n    for x in dictionary.items():\\n        print(x)\\n    \\n        \",\n",
       "  \"count_char('textfile')\",\n",
       "  \"def count_char(filename):\\n    f=open(filename,'r')\\n    dictionary={}\\n    for x in f:\\n        for y in x:\\n            dictionary[y]=dictionary.get(y,0)+1\\n    f.close()\\n    list_fin=sorted(dictionary, key= lambda x:x[1],reverse=True)\\n    for x in dictionary.items():\\n        print(x)\\n    \\n        \",\n",
       "  \"count_char('textfile')\",\n",
       "  \"def count_char(filename):\\n    f=open(filename,'r')\\n    dictionary={}\\n    for x in f:\\n        for y in x:\\n            dictionary[y]=dictionary.get(y,0)+1\\n    f.close()\\n    list_fin=sorted(dictionary.items(), key= lambda x:x[1],reverse=True)\\n    for x in dictionary.items():\\n        print(x)\\n    \\n        \",\n",
       "  \"count_char('textfile')\",\n",
       "  \"def count_char(filename):\\n    f=open(filename,'r')\\n    dictionary={}\\n    for x in f:\\n        for y in x:\\n            dictionary[y]=dictionary.get(y,0)+1\\n    f.close()\\n    list_fin=sorted(dictionary.items(), key= lambda x:x[1],reverse=True)\\n    for x in list_fin:\\n        print(x)\\n    \\n        \",\n",
       "  \"count_char('textfile')\",\n",
       "  'def anagram(old_str,new_str):\\n    dict_old={}\\n    dict_new={}\\n    for x in old_str:\\n        dict_old[x]=dict_old.get(x,0)+1\\n    for x in new_str:\\n        dict_new[x]=dict_new.get(x,0)+1\\n    if dict_old==dict_new:\\n        return True\\n    return False',\n",
       "  'def comp(old_str,new_str):\\n    dict_old={}\\n    dict_new={}\\n    for x in old_str:\\n        dict_old[x]=dict_old.get(x,0)+1\\n    for x in new_str:\\n        dict_new[x]=dict_new.get(x,0)+1\\n    if dict_old==dict_new:\\n        return True\\n    return False',\n",
       "  'def anagram(list_of_words):\\n    fin_list=[]\\n    for word in list_of_words:\\n        new_set={}\\n        for n_word in list_of_words:\\n            if(comp(word,n_word)):\\n                new_set.append(word)\\n                new_set.append(n_word)\\n        if(list(new_set) not in fin_list):\\n            fin_list.append(new_set)\\n    print(fin_list)\\n                \\n            \\n        \\n        ',\n",
       "  \"anagram(['eat', 'ate', 'done', 'tea', 'soup', 'node'])\",\n",
       "  'def anagram(list_of_words):\\n    fin_list=[]\\n    for word in list_of_words:\\n        new_set=set()\\n        for n_word in list_of_words:\\n            if(comp(word,n_word)):\\n                new_set.append(word)\\n                new_set.append(n_word)\\n        if(list(new_set) not in fin_list):\\n            fin_list.append(new_set)\\n    print(fin_list)\\n                \\n            \\n        \\n        ',\n",
       "  \"anagram(['eat', 'ate', 'done', 'tea', 'soup', 'node'])\",\n",
       "  'def anagram(list_of_words):\\n    fin_list=[]\\n    for word in list_of_words:\\n        new_set=set()\\n        for n_word in list_of_words:\\n            if(comp(word,n_word)):\\n                new_set.add(word,n_word)\\n                #new_set.append(n_word)\\n        if(list(new_set) not in fin_list):\\n            fin_list.append(new_set)\\n    print(fin_list)\\n                \\n            \\n        \\n        ',\n",
       "  \"anagram(['eat', 'ate', 'done', 'tea', 'soup', 'node'])\",\n",
       "  'def anagram(list_of_words):\\n    fin_list=[]\\n    for word in list_of_words:\\n        new_set=set()\\n        for n_word in list_of_words:\\n            if(comp(word,n_word)):\\n                new_set.add(word)\\n                new_set.add(n_word)\\n        if(list(new_set) not in fin_list):\\n            fin_list.append(new_set)\\n    print(fin_list)\\n                \\n            \\n        \\n        ',\n",
       "  \"anagram(['eat', 'ate', 'done', 'tea', 'soup', 'node'])\",\n",
       "  'def anagram(list_of_words):\\n    fin_list=[]\\n    for word in list_of_words:\\n        new_set=set()\\n        for n_word in list_of_words:\\n            if(comp(word,n_word)):\\n                new_set.add(word)\\n                new_set.add(n_word)\\n        if(list(new_set) not in fin_list):\\n            fin_list.append(list(new_set))\\n    print(fin_list)\\n                \\n            \\n        \\n        ',\n",
       "  \"anagram(['eat', 'ate', 'done', 'tea', 'soup', 'node'])\",\n",
       "  '#### Problem37',\n",
       "  'def valuesort(dictionary):\\n    list1=sorted(dictionary.items(), key= lambda x:x[0])\\n    return [x[1] for x in list1 ]',\n",
       "  \"valuesort({'x': 1, 'y': 2, 'a': 3})\",\n",
       "  'def invertdict(dictionary):\\n    dictionary2={}\\n    for key,val in dictionary.item():\\n        dictionary2[val]=key\\n    return dictionary2\\n        ',\n",
       "  \"invertdict({'x': 1, 'y': 2, 'z': 3})\",\n",
       "  'def invertdict(dictionary):\\n    dictionary2={}\\n    for key,val in dictionary.items():\\n        dictionary2[val]=key\\n    return dictionary2\\n        ',\n",
       "  \"invertdict({'x': 1, 'y': 2, 'z': 3})\",\n",
       "  'globals()'],\n",
       " '_oh': {65: [3, 1, 2], 69: {1: 'x', 2: 'y', 3: 'z'}},\n",
       " '_dh': ['C:\\\\Users\\\\HP\\\\python_practice'],\n",
       " 'In': ['',\n",
       "  'def count(list1):\\n    dictionary={}\\n    for word in list1:\\n        dictionary[word]=dictionary.get(word,0)+1\\n    list_unsorted=[(word,occurences) for word,occurences in dictionary.get_items()]\\n    sorted_list=list_unsorted.sort(key = lambda x:x[1])\\n    return sorted_list',\n",
       "  \"list2=['hi','i','am','a','girl','the','apple','a','book','a','girl']\",\n",
       "  'count(list2)',\n",
       "  'def count(list1):\\n    dictionary={}\\n    for word in list1:\\n        dictionary[word]=dictionary.get(word,0)+1\\n    list_unsorted=[(word,occurences) for word,occurences in dictionary.items()]\\n    sorted_list=list_unsorted.sort(key = lambda x:x[1])\\n    return sorted_list',\n",
       "  \"list2=['hi','i','am','a','girl','the','apple','a','book','a','girl']\",\n",
       "  'count(list2)',\n",
       "  'def count(list1):\\n    dictionary={}\\n    for word in list1:\\n        dictionary[word]=dictionary.get(word,0)+1\\n    list_unsorted=[(word,occurences) for word,occurences in dictionary.items()]\\n    sorted_list=list_unsorted.sort(key = lambda x:x[1])\\n    return sorted_list',\n",
       "  \"list2=['hi','i','am','a','girl','the','apple','a','book','a','girl']\",\n",
       "  'list1=count(list2)',\n",
       "  'list1',\n",
       "  'print(list1)',\n",
       "  'def count(list1):\\n    dictionary={}\\n    for word in list1:\\n        dictionary[word]=dictionary.get(word,0)+1\\n    list_fin=[(word,occurences) for word,occurences in dictionary.items()]\\n    list_fin.sort(key = lambda x:x[1])\\n    for x in list_fin:\\n        print(x[0])',\n",
       "  \"list2=['hi','i','am','a','girl','the','apple','a','book','a','girl']\",\n",
       "  'count(list2)',\n",
       "  'def count(list1):\\n    dictionary={}\\n    for word in list1:\\n        dictionary[word]=dictionary.get(word,0)+1\\n    list_fin=[(word,occurences) for word,occurences in dictionary.items()]\\n    list_fin.sort(key = lambda x:x[1],reverse=True)\\n    for x in list_fin:\\n        print(x[0])',\n",
       "  \"list2=['hi','i','am','a','girl','the','apple','a','book','a','girl']\",\n",
       "  'count(list2)',\n",
       "  'def count(list1):\\n    dictionary={}\\n    for word in list1:\\n        disctionary[word]=dictionary.get(word,0)+1\\n    sorted_dict=sorted(dictionary.items(), key= lambda x: x[1])',\n",
       "  'def count(list1):\\n    dictionary={}\\n    for word in list1:\\n        disctionary[word]=dictionary.get(word,0)+1\\n    sorted_dict=sorted(dictionary.items(), key= lambda x: x[1])\\n    for x in sorted_dict.keys():\\n        print(x)',\n",
       "  'count(list2)',\n",
       "  'def count(list1):\\n    dictionary={}\\n    for word in list1:\\n        dictionary[word]=dictionary.get(word,0)+1\\n    sorted_dict=sorted(dictionary.items(), key= lambda x: x[1])\\n    for x in sorted_dict.keys():\\n        print(x)',\n",
       "  'count(list2)',\n",
       "  'def count(list1):\\n    dictionary={}\\n    for word in list1:\\n        dictionary[word]=dictionary.get(word,0)+1\\n    sorted_dict=sorted(dictionary.items(), key= lambda x: x[1])\\n    for x in sorted_dict.key():\\n        print(x)',\n",
       "  'count(list2)',\n",
       "  'def count(list1):\\n    dictionary={}\\n    for word in list1:\\n        dictionary[word]=dictionary.get(word,0)+1\\n    sorted_dict=sorted(dictionary.items(), key= lambda x: x[1])\\n    for x in sorted_dict.keys():\\n        print(x)',\n",
       "  'count(list2)',\n",
       "  'def count(list1):\\n    dictionary={}\\n    for word in list1:\\n        dictionary[word]=dictionary.get(word,0)+1\\n    sorted_dict=sorted(dictionary.items(), key= lambda x: x[1])\\n    for x in sorted_dict:\\n        print(x)',\n",
       "  'count(list2)',\n",
       "  'def count(list1):\\n    dictionary={}\\n    for word in list1:\\n        dictionary[word]=dictionary.get(word,0)+1\\n    sorted_dict=sorted(dictionary.items(), key= lambda x: x[1])\\n    for x in sorted_dict:\\n        print(x[0])',\n",
       "  'count(list2)',\n",
       "  'def count(list1):\\n    dictionary={}\\n    for word in list1:\\n        dictionary[word]=dictionary.get(word,0)+1\\n    sorted_dict=sorted(dictionary.items(), key= lambda x: x[1],reverse=True)\\n    for x in sorted_dict:\\n        print(x[0])',\n",
       "  'count(list2)',\n",
       "  \"def count_char(filename):\\n    f=open(filename,'read')\\n    for x in f:\\n        print(x)\\n    f.close()\\n    \\n        \",\n",
       "  \"count_char('textfile')\",\n",
       "  \"def count_char(filename):\\n    f=open(filename,'r')\\n    for x in f:\\n        print(x)\\n    f.close()\\n    \\n        \",\n",
       "  \"count_char('textfile')\",\n",
       "  \"def count_char(filename):\\n    f=open(filename,'r')\\n    for x in f:\\n        print(x,'#####')\\n    f.close()\\n    \\n        \",\n",
       "  \"count_char('textfile')\",\n",
       "  \"def count_char(filename):\\n    f=open(filename,'r')\\n    for x in f:\\n        for y in x.split(''):\\n            print(y)\\n    f.close()\\n    \\n        \",\n",
       "  \"count_char('textfile')\",\n",
       "  \"def count_char(filename):\\n    f=open(filename,'r')\\n    for x in f:\\n        for y in x:\\n            print(y)\\n    f.close()\\n    \\n        \",\n",
       "  \"count_char('textfile')\",\n",
       "  \"def count_char(filename):\\n    f=open(filename,'r')\\n    dictionary={}\\n    for x in f:\\n        for y in x:\\n            dictionary[y]=dictionary.get(y,0)+1\\n    f.close()\\n    for x in dictionary.items():\\n        print(x)\\n    \\n        \",\n",
       "  \"count_char('textfile')\",\n",
       "  \"def count_char(filename):\\n    f=open(filename,'r')\\n    dictionary={}\\n    for x in f:\\n        for y in x:\\n            dictionary[y]=dictionary.get(y,0)+1\\n    f.close()\\n    list_fin=sorted(dictionary, key= lambda x:x[1],reverse=True)\\n    for x in dictionary.items():\\n        print(x)\\n    \\n        \",\n",
       "  \"count_char('textfile')\",\n",
       "  \"def count_char(filename):\\n    f=open(filename,'r')\\n    dictionary={}\\n    for x in f:\\n        for y in x:\\n            dictionary[y]=dictionary.get(y,0)+1\\n    f.close()\\n    list_fin=sorted(dictionary.items(), key= lambda x:x[1],reverse=True)\\n    for x in dictionary.items():\\n        print(x)\\n    \\n        \",\n",
       "  \"count_char('textfile')\",\n",
       "  \"def count_char(filename):\\n    f=open(filename,'r')\\n    dictionary={}\\n    for x in f:\\n        for y in x:\\n            dictionary[y]=dictionary.get(y,0)+1\\n    f.close()\\n    list_fin=sorted(dictionary.items(), key= lambda x:x[1],reverse=True)\\n    for x in list_fin:\\n        print(x)\\n    \\n        \",\n",
       "  \"count_char('textfile')\",\n",
       "  'def anagram(old_str,new_str):\\n    dict_old={}\\n    dict_new={}\\n    for x in old_str:\\n        dict_old[x]=dict_old.get(x,0)+1\\n    for x in new_str:\\n        dict_new[x]=dict_new.get(x,0)+1\\n    if dict_old==dict_new:\\n        return True\\n    return False',\n",
       "  'def comp(old_str,new_str):\\n    dict_old={}\\n    dict_new={}\\n    for x in old_str:\\n        dict_old[x]=dict_old.get(x,0)+1\\n    for x in new_str:\\n        dict_new[x]=dict_new.get(x,0)+1\\n    if dict_old==dict_new:\\n        return True\\n    return False',\n",
       "  'def anagram(list_of_words):\\n    fin_list=[]\\n    for word in list_of_words:\\n        new_set={}\\n        for n_word in list_of_words:\\n            if(comp(word,n_word)):\\n                new_set.append(word)\\n                new_set.append(n_word)\\n        if(list(new_set) not in fin_list):\\n            fin_list.append(new_set)\\n    print(fin_list)\\n                \\n            \\n        \\n        ',\n",
       "  \"anagram(['eat', 'ate', 'done', 'tea', 'soup', 'node'])\",\n",
       "  'def anagram(list_of_words):\\n    fin_list=[]\\n    for word in list_of_words:\\n        new_set=set()\\n        for n_word in list_of_words:\\n            if(comp(word,n_word)):\\n                new_set.append(word)\\n                new_set.append(n_word)\\n        if(list(new_set) not in fin_list):\\n            fin_list.append(new_set)\\n    print(fin_list)\\n                \\n            \\n        \\n        ',\n",
       "  \"anagram(['eat', 'ate', 'done', 'tea', 'soup', 'node'])\",\n",
       "  'def anagram(list_of_words):\\n    fin_list=[]\\n    for word in list_of_words:\\n        new_set=set()\\n        for n_word in list_of_words:\\n            if(comp(word,n_word)):\\n                new_set.add(word,n_word)\\n                #new_set.append(n_word)\\n        if(list(new_set) not in fin_list):\\n            fin_list.append(new_set)\\n    print(fin_list)\\n                \\n            \\n        \\n        ',\n",
       "  \"anagram(['eat', 'ate', 'done', 'tea', 'soup', 'node'])\",\n",
       "  'def anagram(list_of_words):\\n    fin_list=[]\\n    for word in list_of_words:\\n        new_set=set()\\n        for n_word in list_of_words:\\n            if(comp(word,n_word)):\\n                new_set.add(word)\\n                new_set.add(n_word)\\n        if(list(new_set) not in fin_list):\\n            fin_list.append(new_set)\\n    print(fin_list)\\n                \\n            \\n        \\n        ',\n",
       "  \"anagram(['eat', 'ate', 'done', 'tea', 'soup', 'node'])\",\n",
       "  'def anagram(list_of_words):\\n    fin_list=[]\\n    for word in list_of_words:\\n        new_set=set()\\n        for n_word in list_of_words:\\n            if(comp(word,n_word)):\\n                new_set.add(word)\\n                new_set.add(n_word)\\n        if(list(new_set) not in fin_list):\\n            fin_list.append(list(new_set))\\n    print(fin_list)\\n                \\n            \\n        \\n        ',\n",
       "  \"anagram(['eat', 'ate', 'done', 'tea', 'soup', 'node'])\",\n",
       "  '#### Problem37',\n",
       "  'def valuesort(dictionary):\\n    list1=sorted(dictionary.items(), key= lambda x:x[0])\\n    return [x[1] for x in list1 ]',\n",
       "  \"valuesort({'x': 1, 'y': 2, 'a': 3})\",\n",
       "  'def invertdict(dictionary):\\n    dictionary2={}\\n    for key,val in dictionary.item():\\n        dictionary2[val]=key\\n    return dictionary2\\n        ',\n",
       "  \"invertdict({'x': 1, 'y': 2, 'z': 3})\",\n",
       "  'def invertdict(dictionary):\\n    dictionary2={}\\n    for key,val in dictionary.items():\\n        dictionary2[val]=key\\n    return dictionary2\\n        ',\n",
       "  \"invertdict({'x': 1, 'y': 2, 'z': 3})\",\n",
       "  'globals()'],\n",
       " 'Out': {65: [3, 1, 2], 69: {1: 'x', 2: 'y', 3: 'z'}},\n",
       " 'get_ipython': <bound method InteractiveShell.get_ipython of <ipykernel.zmqshell.ZMQInteractiveShell object at 0x0000023F8D7CB5C0>>,\n",
       " 'exit': <IPython.core.autocall.ZMQExitAutocall at 0x23f8ee0dcc0>,\n",
       " 'quit': <IPython.core.autocall.ZMQExitAutocall at 0x23f8ee0dcc0>,\n",
       " '_': {1: 'x', 2: 'y', 3: 'z'},\n",
       " '__': [3, 1, 2],\n",
       " '___': '',\n",
       " '_i': \"invertdict({'x': 1, 'y': 2, 'z': 3})\",\n",
       " '_ii': 'def invertdict(dictionary):\\n    dictionary2={}\\n    for key,val in dictionary.items():\\n        dictionary2[val]=key\\n    return dictionary2\\n        ',\n",
       " '_iii': \"invertdict({'x': 1, 'y': 2, 'z': 3})\",\n",
       " '_i1': 'def count(list1):\\n    dictionary={}\\n    for word in list1:\\n        dictionary[word]=dictionary.get(word,0)+1\\n    list_unsorted=[(word,occurences) for word,occurences in dictionary.get_items()]\\n    sorted_list=list_unsorted.sort(key = lambda x:x[1])\\n    return sorted_list',\n",
       " 'count': <function __main__.count(list1)>,\n",
       " '_i2': \"list2=['hi','i','am','a','girl','the','apple','a','book','a','girl']\",\n",
       " 'list2': ['hi',\n",
       "  'i',\n",
       "  'am',\n",
       "  'a',\n",
       "  'girl',\n",
       "  'the',\n",
       "  'apple',\n",
       "  'a',\n",
       "  'book',\n",
       "  'a',\n",
       "  'girl'],\n",
       " '_i3': 'count(list2)',\n",
       " '_i4': 'def count(list1):\\n    dictionary={}\\n    for word in list1:\\n        dictionary[word]=dictionary.get(word,0)+1\\n    list_unsorted=[(word,occurences) for word,occurences in dictionary.items()]\\n    sorted_list=list_unsorted.sort(key = lambda x:x[1])\\n    return sorted_list',\n",
       " '_i5': \"list2=['hi','i','am','a','girl','the','apple','a','book','a','girl']\",\n",
       " '_i6': 'count(list2)',\n",
       " '_i7': 'def count(list1):\\n    dictionary={}\\n    for word in list1:\\n        dictionary[word]=dictionary.get(word,0)+1\\n    list_unsorted=[(word,occurences) for word,occurences in dictionary.items()]\\n    sorted_list=list_unsorted.sort(key = lambda x:x[1])\\n    return sorted_list',\n",
       " '_i8': \"list2=['hi','i','am','a','girl','the','apple','a','book','a','girl']\",\n",
       " '_i9': 'list1=count(list2)',\n",
       " 'list1': None,\n",
       " '_i10': 'list1',\n",
       " '_i11': 'print(list1)',\n",
       " '_i12': 'def count(list1):\\n    dictionary={}\\n    for word in list1:\\n        dictionary[word]=dictionary.get(word,0)+1\\n    list_fin=[(word,occurences) for word,occurences in dictionary.items()]\\n    list_fin.sort(key = lambda x:x[1])\\n    for x in list_fin:\\n        print(x[0])',\n",
       " '_i13': \"list2=['hi','i','am','a','girl','the','apple','a','book','a','girl']\",\n",
       " '_i14': 'count(list2)',\n",
       " '_i15': 'def count(list1):\\n    dictionary={}\\n    for word in list1:\\n        dictionary[word]=dictionary.get(word,0)+1\\n    list_fin=[(word,occurences) for word,occurences in dictionary.items()]\\n    list_fin.sort(key = lambda x:x[1],reverse=True)\\n    for x in list_fin:\\n        print(x[0])',\n",
       " '_i16': \"list2=['hi','i','am','a','girl','the','apple','a','book','a','girl']\",\n",
       " '_i17': 'count(list2)',\n",
       " '_i18': 'def count(list1):\\n    dictionary={}\\n    for word in list1:\\n        disctionary[word]=dictionary.get(word,0)+1\\n    sorted_dict=sorted(dictionary.items(), key= lambda x: x[1])',\n",
       " '_i19': 'def count(list1):\\n    dictionary={}\\n    for word in list1:\\n        disctionary[word]=dictionary.get(word,0)+1\\n    sorted_dict=sorted(dictionary.items(), key= lambda x: x[1])\\n    for x in sorted_dict.keys():\\n        print(x)',\n",
       " '_i20': 'count(list2)',\n",
       " '_i21': 'def count(list1):\\n    dictionary={}\\n    for word in list1:\\n        dictionary[word]=dictionary.get(word,0)+1\\n    sorted_dict=sorted(dictionary.items(), key= lambda x: x[1])\\n    for x in sorted_dict.keys():\\n        print(x)',\n",
       " '_i22': 'count(list2)',\n",
       " '_i23': 'def count(list1):\\n    dictionary={}\\n    for word in list1:\\n        dictionary[word]=dictionary.get(word,0)+1\\n    sorted_dict=sorted(dictionary.items(), key= lambda x: x[1])\\n    for x in sorted_dict.key():\\n        print(x)',\n",
       " '_i24': 'count(list2)',\n",
       " '_i25': 'def count(list1):\\n    dictionary={}\\n    for word in list1:\\n        dictionary[word]=dictionary.get(word,0)+1\\n    sorted_dict=sorted(dictionary.items(), key= lambda x: x[1])\\n    for x in sorted_dict.keys():\\n        print(x)',\n",
       " '_i26': 'count(list2)',\n",
       " '_i27': 'def count(list1):\\n    dictionary={}\\n    for word in list1:\\n        dictionary[word]=dictionary.get(word,0)+1\\n    sorted_dict=sorted(dictionary.items(), key= lambda x: x[1])\\n    for x in sorted_dict:\\n        print(x)',\n",
       " '_i28': 'count(list2)',\n",
       " '_i29': 'def count(list1):\\n    dictionary={}\\n    for word in list1:\\n        dictionary[word]=dictionary.get(word,0)+1\\n    sorted_dict=sorted(dictionary.items(), key= lambda x: x[1])\\n    for x in sorted_dict:\\n        print(x[0])',\n",
       " '_i30': 'count(list2)',\n",
       " '_i31': 'def count(list1):\\n    dictionary={}\\n    for word in list1:\\n        dictionary[word]=dictionary.get(word,0)+1\\n    sorted_dict=sorted(dictionary.items(), key= lambda x: x[1],reverse=True)\\n    for x in sorted_dict:\\n        print(x[0])',\n",
       " '_i32': 'count(list2)',\n",
       " '_i33': \"def count_char(filename):\\n    f=open(filename,'read')\\n    for x in f:\\n        print(x)\\n    f.close()\\n    \\n        \",\n",
       " 'count_char': <function __main__.count_char(filename)>,\n",
       " '_i34': \"count_char('textfile')\",\n",
       " '_i35': \"def count_char(filename):\\n    f=open(filename,'r')\\n    for x in f:\\n        print(x)\\n    f.close()\\n    \\n        \",\n",
       " '_i36': \"count_char('textfile')\",\n",
       " '_i37': \"def count_char(filename):\\n    f=open(filename,'r')\\n    for x in f:\\n        print(x,'#####')\\n    f.close()\\n    \\n        \",\n",
       " '_i38': \"count_char('textfile')\",\n",
       " '_i39': \"def count_char(filename):\\n    f=open(filename,'r')\\n    for x in f:\\n        for y in x.split(''):\\n            print(y)\\n    f.close()\\n    \\n        \",\n",
       " '_i40': \"count_char('textfile')\",\n",
       " '_i41': \"def count_char(filename):\\n    f=open(filename,'r')\\n    for x in f:\\n        for y in x:\\n            print(y)\\n    f.close()\\n    \\n        \",\n",
       " '_i42': \"count_char('textfile')\",\n",
       " '_i43': \"def count_char(filename):\\n    f=open(filename,'r')\\n    dictionary={}\\n    for x in f:\\n        for y in x:\\n            dictionary[y]=dictionary.get(y,0)+1\\n    f.close()\\n    for x in dictionary.items():\\n        print(x)\\n    \\n        \",\n",
       " '_i44': \"count_char('textfile')\",\n",
       " '_i45': \"def count_char(filename):\\n    f=open(filename,'r')\\n    dictionary={}\\n    for x in f:\\n        for y in x:\\n            dictionary[y]=dictionary.get(y,0)+1\\n    f.close()\\n    list_fin=sorted(dictionary, key= lambda x:x[1],reverse=True)\\n    for x in dictionary.items():\\n        print(x)\\n    \\n        \",\n",
       " '_i46': \"count_char('textfile')\",\n",
       " '_i47': \"def count_char(filename):\\n    f=open(filename,'r')\\n    dictionary={}\\n    for x in f:\\n        for y in x:\\n            dictionary[y]=dictionary.get(y,0)+1\\n    f.close()\\n    list_fin=sorted(dictionary.items(), key= lambda x:x[1],reverse=True)\\n    for x in dictionary.items():\\n        print(x)\\n    \\n        \",\n",
       " '_i48': \"count_char('textfile')\",\n",
       " '_i49': \"def count_char(filename):\\n    f=open(filename,'r')\\n    dictionary={}\\n    for x in f:\\n        for y in x:\\n            dictionary[y]=dictionary.get(y,0)+1\\n    f.close()\\n    list_fin=sorted(dictionary.items(), key= lambda x:x[1],reverse=True)\\n    for x in list_fin:\\n        print(x)\\n    \\n        \",\n",
       " '_i50': \"count_char('textfile')\",\n",
       " '_i51': 'def anagram(old_str,new_str):\\n    dict_old={}\\n    dict_new={}\\n    for x in old_str:\\n        dict_old[x]=dict_old.get(x,0)+1\\n    for x in new_str:\\n        dict_new[x]=dict_new.get(x,0)+1\\n    if dict_old==dict_new:\\n        return True\\n    return False',\n",
       " 'anagram': <function __main__.anagram(list_of_words)>,\n",
       " '_i52': 'def comp(old_str,new_str):\\n    dict_old={}\\n    dict_new={}\\n    for x in old_str:\\n        dict_old[x]=dict_old.get(x,0)+1\\n    for x in new_str:\\n        dict_new[x]=dict_new.get(x,0)+1\\n    if dict_old==dict_new:\\n        return True\\n    return False',\n",
       " 'comp': <function __main__.comp(old_str, new_str)>,\n",
       " '_i53': 'def anagram(list_of_words):\\n    fin_list=[]\\n    for word in list_of_words:\\n        new_set={}\\n        for n_word in list_of_words:\\n            if(comp(word,n_word)):\\n                new_set.append(word)\\n                new_set.append(n_word)\\n        if(list(new_set) not in fin_list):\\n            fin_list.append(new_set)\\n    print(fin_list)\\n                \\n            \\n        \\n        ',\n",
       " '_i54': \"anagram(['eat', 'ate', 'done', 'tea', 'soup', 'node'])\",\n",
       " '_i55': 'def anagram(list_of_words):\\n    fin_list=[]\\n    for word in list_of_words:\\n        new_set=set()\\n        for n_word in list_of_words:\\n            if(comp(word,n_word)):\\n                new_set.append(word)\\n                new_set.append(n_word)\\n        if(list(new_set) not in fin_list):\\n            fin_list.append(new_set)\\n    print(fin_list)\\n                \\n            \\n        \\n        ',\n",
       " '_i56': \"anagram(['eat', 'ate', 'done', 'tea', 'soup', 'node'])\",\n",
       " '_i57': 'def anagram(list_of_words):\\n    fin_list=[]\\n    for word in list_of_words:\\n        new_set=set()\\n        for n_word in list_of_words:\\n            if(comp(word,n_word)):\\n                new_set.add(word,n_word)\\n                #new_set.append(n_word)\\n        if(list(new_set) not in fin_list):\\n            fin_list.append(new_set)\\n    print(fin_list)\\n                \\n            \\n        \\n        ',\n",
       " '_i58': \"anagram(['eat', 'ate', 'done', 'tea', 'soup', 'node'])\",\n",
       " '_i59': 'def anagram(list_of_words):\\n    fin_list=[]\\n    for word in list_of_words:\\n        new_set=set()\\n        for n_word in list_of_words:\\n            if(comp(word,n_word)):\\n                new_set.add(word)\\n                new_set.add(n_word)\\n        if(list(new_set) not in fin_list):\\n            fin_list.append(new_set)\\n    print(fin_list)\\n                \\n            \\n        \\n        ',\n",
       " '_i60': \"anagram(['eat', 'ate', 'done', 'tea', 'soup', 'node'])\",\n",
       " '_i61': 'def anagram(list_of_words):\\n    fin_list=[]\\n    for word in list_of_words:\\n        new_set=set()\\n        for n_word in list_of_words:\\n            if(comp(word,n_word)):\\n                new_set.add(word)\\n                new_set.add(n_word)\\n        if(list(new_set) not in fin_list):\\n            fin_list.append(list(new_set))\\n    print(fin_list)\\n                \\n            \\n        \\n        ',\n",
       " '_i62': \"anagram(['eat', 'ate', 'done', 'tea', 'soup', 'node'])\",\n",
       " '_i63': '#### Problem37',\n",
       " '_i64': 'def valuesort(dictionary):\\n    list1=sorted(dictionary.items(), key= lambda x:x[0])\\n    return [x[1] for x in list1 ]',\n",
       " 'valuesort': <function __main__.valuesort(dictionary)>,\n",
       " '_i65': \"valuesort({'x': 1, 'y': 2, 'a': 3})\",\n",
       " '_65': [3, 1, 2],\n",
       " '_i66': 'def invertdict(dictionary):\\n    dictionary2={}\\n    for key,val in dictionary.item():\\n        dictionary2[val]=key\\n    return dictionary2\\n        ',\n",
       " 'invertdict': <function __main__.invertdict(dictionary)>,\n",
       " '_i67': \"invertdict({'x': 1, 'y': 2, 'z': 3})\",\n",
       " '_i68': 'def invertdict(dictionary):\\n    dictionary2={}\\n    for key,val in dictionary.items():\\n        dictionary2[val]=key\\n    return dictionary2\\n        ',\n",
       " '_i69': \"invertdict({'x': 1, 'y': 2, 'z': 3})\",\n",
       " '_69': {1: 'x', 2: 'y', 3: 'z'},\n",
       " '_i70': 'globals()'}"
      ]
     },
     "execution_count": 70,
     "metadata": {},
     "output_type": "execute_result"
    }
   ],
   "source": [
    "globals()"
   ]
  },
  {
   "cell_type": "code",
   "execution_count": 73,
   "metadata": {},
   "outputs": [],
   "source": [
    "def see(a,b):\n",
    "    print(locals())"
   ]
  },
  {
   "cell_type": "code",
   "execution_count": 74,
   "metadata": {},
   "outputs": [
    {
     "name": "stdout",
     "output_type": "stream",
     "text": [
      "{'a': 1, 'b': 2}\n"
     ]
    }
   ],
   "source": [
    "see(1,2)"
   ]
  },
  {
   "cell_type": "code",
   "execution_count": 79,
   "metadata": {},
   "outputs": [],
   "source": [
    "def name(word):\n",
    "    orange='oops'\n",
    "    print('%(orange)s' %locals())"
   ]
  },
  {
   "cell_type": "code",
   "execution_count": 80,
   "metadata": {},
   "outputs": [
    {
     "name": "stdout",
     "output_type": "stream",
     "text": [
      "oops\n"
     ]
    }
   ],
   "source": [
    "name('hi')"
   ]
  },
  {
   "cell_type": "code",
   "execution_count": null,
   "metadata": {},
   "outputs": [],
   "source": []
  }
 ],
 "metadata": {
  "kernelspec": {
   "display_name": "Python 3",
   "language": "python",
   "name": "python3"
  },
  "language_info": {
   "codemirror_mode": {
    "name": "ipython",
    "version": 3
   },
   "file_extension": ".py",
   "mimetype": "text/x-python",
   "name": "python",
   "nbconvert_exporter": "python",
   "pygments_lexer": "ipython3",
   "version": "3.7.3"
  }
 },
 "nbformat": 4,
 "nbformat_minor": 4
}
